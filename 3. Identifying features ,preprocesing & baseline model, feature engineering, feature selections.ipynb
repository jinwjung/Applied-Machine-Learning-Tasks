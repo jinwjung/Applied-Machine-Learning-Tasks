{
 "cells": [
  {
   "cell_type": "markdown",
   "metadata": {},
   "source": [
    "All assignments need to be submitted via github classroom:\n",
    "https://classroom.github.com/g/yCXet19l\n",
    "and as PDF via gradescope.\n",
    "\n",
    "\n",
    "The goal of this taks is to provide a realistic setting for a machine learning task.\n",
    "Therefore instructions will not specify the exact steps to carry out. Instead, it is part of the\n",
    "assignment to identify promising features, models and preprocessing methods and apply them\n",
    "as appropriate."
   ]
  },
  {
   "cell_type": "markdown",
   "metadata": {},
   "source": [
    "## Task 1: Identify Features\n",
    "\n",
    "Assemble a dataset consisting of features and target (for example in a dataframe or in two\n",
    "arrays X and y). What features are relevant for the prediction task?\n",
    "Are there any features that should be excluded because they leak the target information?\n",
    "Show visualizations or statistics to support your selection.\n",
    "You are not required to use the description column, but you can try to come up with relevant\n",
    "features using it. Please don’t use bag-of-word approaches for now as we’ll discuss these later\n",
    "in the class."
   ]
  },
  {
   "cell_type": "code",
   "execution_count": 1,
   "metadata": {},
   "outputs": [],
   "source": [
    "import pandas as pd\n",
    "import numpy as np\n",
    "import matplotlib.pylab as plt\n",
    "import seaborn as sns\n",
    "from sklearn.model_selection import train_test_split\n",
    "\n",
    "from sklearn.pipeline import make_pipeline\n",
    "from sklearn.preprocessing import StandardScaler, OneHotEncoder\n",
    "from sklearn.impute import SimpleImputer\n",
    "from sklearn.compose import make_column_transformer, make_column_selector\n",
    "from sklearn.linear_model import ElasticNet, LinearRegression, Ridge, Lasso,LogisticRegression\n",
    "from sklearn.model_selection import GridSearchCV, cross_val_score\n",
    "\n",
    "\n",
    "# to disregard warnings\n",
    "import warnings\n",
    "warnings.filterwarnings('ignore')"
   ]
  },
  {
   "cell_type": "code",
   "execution_count": 2,
   "metadata": {},
   "outputs": [],
   "source": [
    "df = pd.read_csv('vehicles.csv')"
   ]
  },
  {
   "cell_type": "code",
   "execution_count": 3,
   "metadata": {},
   "outputs": [
    {
     "data": {
      "text/html": [
       "<div>\n",
       "<style scoped>\n",
       "    .dataframe tbody tr th:only-of-type {\n",
       "        vertical-align: middle;\n",
       "    }\n",
       "\n",
       "    .dataframe tbody tr th {\n",
       "        vertical-align: top;\n",
       "    }\n",
       "\n",
       "    .dataframe thead th {\n",
       "        text-align: right;\n",
       "    }\n",
       "</style>\n",
       "<table border=\"1\" class=\"dataframe\">\n",
       "  <thead>\n",
       "    <tr style=\"text-align: right;\">\n",
       "      <th></th>\n",
       "      <th>id</th>\n",
       "      <th>url</th>\n",
       "      <th>region</th>\n",
       "      <th>region_url</th>\n",
       "      <th>price</th>\n",
       "      <th>year</th>\n",
       "      <th>manufacturer</th>\n",
       "      <th>model</th>\n",
       "      <th>condition</th>\n",
       "      <th>cylinders</th>\n",
       "      <th>...</th>\n",
       "      <th>drive</th>\n",
       "      <th>size</th>\n",
       "      <th>type</th>\n",
       "      <th>paint_color</th>\n",
       "      <th>image_url</th>\n",
       "      <th>description</th>\n",
       "      <th>county</th>\n",
       "      <th>state</th>\n",
       "      <th>lat</th>\n",
       "      <th>long</th>\n",
       "    </tr>\n",
       "  </thead>\n",
       "  <tbody>\n",
       "    <tr>\n",
       "      <th>0</th>\n",
       "      <td>7034441763</td>\n",
       "      <td>https://saltlakecity.craigslist.org/cto/d/salt...</td>\n",
       "      <td>salt lake city</td>\n",
       "      <td>https://saltlakecity.craigslist.org</td>\n",
       "      <td>17899</td>\n",
       "      <td>2012.0</td>\n",
       "      <td>volkswagen</td>\n",
       "      <td>golf r</td>\n",
       "      <td>excellent</td>\n",
       "      <td>4 cylinders</td>\n",
       "      <td>...</td>\n",
       "      <td>4wd</td>\n",
       "      <td>compact</td>\n",
       "      <td>hatchback</td>\n",
       "      <td>black</td>\n",
       "      <td>https://images.craigslist.org/00G0G_fTLDWM5Xyv...</td>\n",
       "      <td>PRICE REDUCED!   -Garage kept -Low Miles (63K)...</td>\n",
       "      <td>NaN</td>\n",
       "      <td>ut</td>\n",
       "      <td>40.7372</td>\n",
       "      <td>-111.858</td>\n",
       "    </tr>\n",
       "    <tr>\n",
       "      <th>1</th>\n",
       "      <td>7034440610</td>\n",
       "      <td>https://saltlakecity.craigslist.org/ctd/d/sand...</td>\n",
       "      <td>salt lake city</td>\n",
       "      <td>https://saltlakecity.craigslist.org</td>\n",
       "      <td>0</td>\n",
       "      <td>2016.0</td>\n",
       "      <td>ford</td>\n",
       "      <td>f-150</td>\n",
       "      <td>excellent</td>\n",
       "      <td>NaN</td>\n",
       "      <td>...</td>\n",
       "      <td>4wd</td>\n",
       "      <td>NaN</td>\n",
       "      <td>NaN</td>\n",
       "      <td>NaN</td>\n",
       "      <td>https://images.craigslist.org/00v0v_7Cu0buIofU...</td>\n",
       "      <td>Drive it home today. Call (Or Text) us now !!C...</td>\n",
       "      <td>NaN</td>\n",
       "      <td>ut</td>\n",
       "      <td>40.5881</td>\n",
       "      <td>-111.884</td>\n",
       "    </tr>\n",
       "    <tr>\n",
       "      <th>2</th>\n",
       "      <td>7034440588</td>\n",
       "      <td>https://saltlakecity.craigslist.org/ctd/d/sand...</td>\n",
       "      <td>salt lake city</td>\n",
       "      <td>https://saltlakecity.craigslist.org</td>\n",
       "      <td>46463</td>\n",
       "      <td>2015.0</td>\n",
       "      <td>gmc</td>\n",
       "      <td>sierra 1500</td>\n",
       "      <td>excellent</td>\n",
       "      <td>NaN</td>\n",
       "      <td>...</td>\n",
       "      <td>4wd</td>\n",
       "      <td>NaN</td>\n",
       "      <td>NaN</td>\n",
       "      <td>white</td>\n",
       "      <td>https://images.craigslist.org/01515_lPvJ9bfbdY...</td>\n",
       "      <td>Drive it home today. Call (Or Text) us now !!C...</td>\n",
       "      <td>NaN</td>\n",
       "      <td>ut</td>\n",
       "      <td>40.5881</td>\n",
       "      <td>-111.884</td>\n",
       "    </tr>\n",
       "  </tbody>\n",
       "</table>\n",
       "<p>3 rows × 25 columns</p>\n",
       "</div>"
      ],
      "text/plain": [
       "           id                                                url  \\\n",
       "0  7034441763  https://saltlakecity.craigslist.org/cto/d/salt...   \n",
       "1  7034440610  https://saltlakecity.craigslist.org/ctd/d/sand...   \n",
       "2  7034440588  https://saltlakecity.craigslist.org/ctd/d/sand...   \n",
       "\n",
       "           region                           region_url  price    year  \\\n",
       "0  salt lake city  https://saltlakecity.craigslist.org  17899  2012.0   \n",
       "1  salt lake city  https://saltlakecity.craigslist.org      0  2016.0   \n",
       "2  salt lake city  https://saltlakecity.craigslist.org  46463  2015.0   \n",
       "\n",
       "  manufacturer        model  condition    cylinders  ... drive     size  \\\n",
       "0   volkswagen       golf r  excellent  4 cylinders  ...   4wd  compact   \n",
       "1         ford        f-150  excellent          NaN  ...   4wd      NaN   \n",
       "2          gmc  sierra 1500  excellent          NaN  ...   4wd      NaN   \n",
       "\n",
       "        type paint_color                                          image_url  \\\n",
       "0  hatchback       black  https://images.craigslist.org/00G0G_fTLDWM5Xyv...   \n",
       "1        NaN         NaN  https://images.craigslist.org/00v0v_7Cu0buIofU...   \n",
       "2        NaN       white  https://images.craigslist.org/01515_lPvJ9bfbdY...   \n",
       "\n",
       "                                         description county state      lat  \\\n",
       "0  PRICE REDUCED!   -Garage kept -Low Miles (63K)...    NaN    ut  40.7372   \n",
       "1  Drive it home today. Call (Or Text) us now !!C...    NaN    ut  40.5881   \n",
       "2  Drive it home today. Call (Or Text) us now !!C...    NaN    ut  40.5881   \n",
       "\n",
       "      long  \n",
       "0 -111.858  \n",
       "1 -111.884  \n",
       "2 -111.884  \n",
       "\n",
       "[3 rows x 25 columns]"
      ]
     },
     "execution_count": 3,
     "metadata": {},
     "output_type": "execute_result"
    }
   ],
   "source": [
    "df.head(3)"
   ]
  },
  {
   "cell_type": "code",
   "execution_count": 4,
   "metadata": {},
   "outputs": [
    {
     "name": "stdout",
     "output_type": "stream",
     "text": [
      "number of rows:  509577\n",
      "\n",
      "counts and percentage of value counts of the columns\n",
      "id 509577    100.0 %\n",
      "url 509577    100.0 %\n",
      "region 403    0.08 %\n",
      "region_url 413    0.08 %\n",
      "price 17854    3.5 %\n",
      "year 114    0.02 %\n",
      "manufacturer 43    0.01 %\n",
      "model 35852    7.04 %\n",
      "condition 6    0.0 %\n",
      "cylinders 8    0.0 %\n",
      "fuel 5    0.0 %\n",
      "odometer 119873    23.52 %\n",
      "title_status 6    0.0 %\n",
      "transmission 3    0.0 %\n",
      "vin 180145    35.35 %\n",
      "drive 3    0.0 %\n",
      "size 4    0.0 %\n",
      "type 13    0.0 %\n",
      "paint_color 12    0.0 %\n",
      "image_url 349468    68.58 %\n",
      "description 427803    83.95 %\n",
      "county 0    0.0 %\n",
      "state 51    0.01 %\n",
      "lat 51488    10.1 %\n",
      "long 51467    10.1 %\n"
     ]
    }
   ],
   "source": [
    "n_rows = df.shape[0]\n",
    "print(\"number of rows: \",n_rows )\n",
    "print(\"\")\n",
    "print(\"counts and percentage of value counts of the columns\")\n",
    "\n",
    "for i in range(len(df.columns)):\n",
    "    col = df.columns[i]\n",
    "    unique_val_counts = len(df[col].value_counts())\n",
    "    print(col, unique_val_counts, \"  \",round(unique_val_counts/n_rows*100,2), \"%\")"
   ]
  },
  {
   "cell_type": "markdown",
   "metadata": {},
   "source": [
    "#### Irrelevant features for prediction tasks:\n",
    "The feature **'county'** is irrelevant feature as noted on the Kaggle data description page (i.e. \"useless column left in by mistake\"). Also, **'region_url'** seems repetetive of the feature 'region' and does not provide much useful information regarding the target information i.e. the car's price.\n",
    "\n",
    "Also the feature title_status consists of 95% of \"clean\" , 2% of \"rebuilt\", and others (as shown on dataset description),and we beleived this column does not really give meaningful indicator for predicting the car's value and thus removed.\n",
    "\n",
    "#### Features that should be excldued because they leak target information: \n",
    "As shown on the above statistics, 100% of **'id' and 'url'** values are distinct, meaning that a model might just learn to associate id and target output without being able to genearlize (as noted on Piazza).Thus, these two columns are certainly leaking the target information.\n",
    "\n",
    "Moreover, **'image_url'** (68.58%) and **'description'** (83.95%) features also contain more than half of data of unique values, which thus would likely to leak the target information. Although the vehicle identification number has unique value counts around 35%, since its unique number can be associtated with the car's sale price, **'vin'** should also considered to be a feature that leak the target info\n",
    "\n",
    "Also, assuming sellers on Craiglists are mostly individuals not companies, **'lat'** and **'long'** features can also thought to be features that leak target infomration, in a similar reasongin to 'id' (i.e. unique latitude and longitude coordinate to associated with a car's selling price.\n",
    "\n",
    "Thus, irrelevant features: **'county', 'region_url', 'title_status**\n",
    "\n",
    "features that leak target info: **'id', 'url', 'vin', 'image_url', 'description', 'lat', 'long'**"
   ]
  },
  {
   "cell_type": "markdown",
   "metadata": {},
   "source": [
    "Looking more specifically for some of the features that would need preprocessing (done in Task3):"
   ]
  },
  {
   "cell_type": "code",
   "execution_count": 5,
   "metadata": {},
   "outputs": [
    {
     "name": "stdout",
     "output_type": "stream",
     "text": [
      "count    5.095770e+05\n",
      "mean     5.479684e+04\n",
      "std      9.575025e+06\n",
      "min      0.000000e+00\n",
      "25%      3.995000e+03\n",
      "50%      9.377000e+03\n",
      "75%      1.795500e+04\n",
      "max      3.600029e+09\n",
      "Name: price, dtype: float64\n"
     ]
    },
    {
     "data": {
      "image/png": "[encoded data removed]",
      "text/plain": [
       "<Figure size 864x288 with 2 Axes>"
      ]
     },
     "metadata": {
      "needs_background": "light"
     },
     "output_type": "display_data"
    }
   ],
   "source": [
    "print(df.price.describe());\n",
    "\n",
    "fig,ax = plt.subplots(1,2,figsize=(12,4))\n",
    "sns.distplot(df.price, rug=True, ax=ax[0]);\n",
    "sns.boxplot(df.price, ax=ax[1]);"
   ]
  },
  {
   "cell_type": "markdown",
   "metadata": {},
   "source": [
    "As shown above, it is reasonable to remove data of car's price at 0 and outliers that are higher than majority of the price (will do preprocessing this in Task3)"
   ]
  },
  {
   "cell_type": "code",
   "execution_count": 6,
   "metadata": {},
   "outputs": [
    {
     "name": "stdout",
     "output_type": "stream",
     "text": [
      "count    508050.000000\n",
      "mean       2009.662236\n",
      "std           8.567953\n",
      "min        1900.000000\n",
      "25%        2007.000000\n",
      "50%        2011.000000\n",
      "75%        2015.000000\n",
      "max        2021.000000\n",
      "Name: year, dtype: float64\n"
     ]
    },
    {
     "data": {
      "image/png": "[encoded data removed]",
      "text/plain": [
       "<Figure size 864x288 with 2 Axes>"
      ]
     },
     "metadata": {
      "needs_background": "light"
     },
     "output_type": "display_data"
    }
   ],
   "source": [
    "print(df.year.describe());\n",
    "\n",
    "fig,ax = plt.subplots(1,2,figsize=(12,4))\n",
    "sns.distplot(df.year, rug=True, ax=ax[0]);\n",
    "sns.boxplot(df.year, ax=ax[1]);"
   ]
  },
  {
   "cell_type": "markdown",
   "metadata": {},
   "source": [
    "As shown above, since it is unlikely to predict a car's value that is more than 60 years old, it is reasonable to remove data of car's year before 1960 (will do preprocessing this in Task3)"
   ]
  },
  {
   "cell_type": "code",
   "execution_count": 7,
   "metadata": {},
   "outputs": [
    {
     "name": "stdout",
     "output_type": "stream",
     "text": [
      "count    4.172530e+05\n",
      "mean     1.017300e+05\n",
      "std      1.073790e+05\n",
      "min      0.000000e+00\n",
      "25%      4.948800e+04\n",
      "50%      9.489400e+04\n",
      "75%      1.387780e+05\n",
      "max      1.000000e+07\n",
      "Name: odometer, dtype: float64\n"
     ]
    },
    {
     "data": {
      "image/png": "[encoded data removed]",
      "text/plain": [
       "<Figure size 864x288 with 2 Axes>"
      ]
     },
     "metadata": {
      "needs_background": "light"
     },
     "output_type": "display_data"
    }
   ],
   "source": [
    "print(df.odometer.describe());\n",
    "\n",
    "fig,ax = plt.subplots(1,2,figsize=(12,4))\n",
    "sns.distplot(df.odometer, rug=True, ax=ax[0]);\n",
    "sns.boxplot(df.odometer, ax=ax[1]);"
   ]
  },
  {
   "cell_type": "markdown",
   "metadata": {},
   "source": [
    "It seems reasonable to rule out outlier (will do preprocessing in Task3)"
   ]
  },
  {
   "cell_type": "markdown",
   "metadata": {},
   "source": [
    "## Task 2: Preprocessing and Baseline Model\n",
    "\n",
    "Create a simple minimum viable model by doing an initial selection of features, doing\n",
    "appropriate preprocessing and cross-validating a linear model. Feel free to exclude features or\n",
    "do simplified preprocessing for this task. As mentioned before, you don’t need to validate the\n",
    "model on the whole dataset."
   ]
  },
  {
   "cell_type": "code",
   "execution_count": 8,
   "metadata": {},
   "outputs": [
    {
     "name": "stdout",
     "output_type": "stream",
     "text": [
      "<class 'pandas.core.frame.DataFrame'>\n",
      "RangeIndex: 509577 entries, 0 to 509576\n",
      "Data columns (total 15 columns):\n",
      " #   Column        Non-Null Count   Dtype  \n",
      "---  ------        --------------   -----  \n",
      " 0   region        509577 non-null  object \n",
      " 1   price         509577 non-null  int64  \n",
      " 2   year          508050 non-null  float64\n",
      " 3   manufacturer  486813 non-null  object \n",
      " 4   model         501588 non-null  object \n",
      " 5   condition     277643 non-null  object \n",
      " 6   cylinders     309894 non-null  object \n",
      " 7   fuel          505592 non-null  object \n",
      " 8   odometer      417253 non-null  float64\n",
      " 9   transmission  505858 non-null  object \n",
      " 10  drive         365434 non-null  object \n",
      " 11  size          167574 non-null  object \n",
      " 12  type          368046 non-null  object \n",
      " 13  paint_color   344871 non-null  object \n",
      " 14  state         509577 non-null  object \n",
      "dtypes: float64(2), int64(1), object(12)\n",
      "memory usage: 58.3+ MB\n"
     ]
    }
   ],
   "source": [
    "# dropping irrelevant and features that leak the target information\n",
    "df2 = df.drop(['county', 'region_url','title_status', 'id', 'vin', 'url', 'image_url', 'description', 'lat', 'long'], axis=1)\n",
    "df2.info()"
   ]
  },
  {
   "cell_type": "code",
   "execution_count": 9,
   "metadata": {},
   "outputs": [],
   "source": [
    "#Taking sampple of the whole dataset\n",
    "df2_sample = df2.sample(n=10000, random_state=1)\n",
    "\n",
    "target_sample = df2_sample.price\n",
    "X_sample = df2_sample.drop(['price'], axis=1)\n",
    "\n",
    "X_train, X_test, y_train, y_test = train_test_split(X_sample, target_sample, random_state=0)"
   ]
  },
  {
   "cell_type": "code",
   "execution_count": 10,
   "metadata": {},
   "outputs": [
    {
     "name": "stdout",
     "output_type": "stream",
     "text": [
      "baseline mean score:  0.0698547768320382\n"
     ]
    }
   ],
   "source": [
    "#Baseline model: Linear regression with 'minimal' preprocessing\n",
    "cat_preprocessing = make_pipeline(\n",
    "    SimpleImputer(strategy='constant', fill_value='NA'),\n",
    "    OneHotEncoder(handle_unknown='ignore'))\n",
    "cont_preprocessing = make_pipeline(\n",
    "    SimpleImputer(),\n",
    "    StandardScaler())\n",
    "\n",
    "preprocess = make_column_transformer(\n",
    "    (cat_preprocessing, make_column_selector(dtype_include='object')),\n",
    "    remainder=cont_preprocessing)\n",
    "\n",
    "model = make_pipeline(preprocess, LinearRegression())\n",
    "\n",
    "scores = cross_val_score(model, X_train, y_train)\n",
    "print(\"baseline mean score: \", np.mean(scores))"
   ]
  },
  {
   "cell_type": "markdown",
   "metadata": {},
   "source": [
    "## Task 3: Feature Engineering\n",
    "\n",
    "Create derived features and perform more in-depth preprocessing and data cleaning. Does this\n",
    "improve your model? In particular, think about how to encode categorical variables and\n",
    "whether adding interactions (for example using PolynomialFeatures or manually) might help."
   ]
  },
  {
   "cell_type": "code",
   "execution_count": 11,
   "metadata": {},
   "outputs": [],
   "source": [
    "# As mentioend in Task 1, removing outliers for the price, year, odometer columns\n",
    "df3 = df2.loc[(df2.price > 100) & (df2.price<df2.price.quantile(.99))]\n",
    "df3 = df3.loc[(df3.year >1960)]\n",
    "df3 = df3.loc[(df3.odometer < df3.odometer.quantile(.975))]"
   ]
  },
  {
   "cell_type": "code",
   "execution_count": 12,
   "metadata": {
    "scrolled": true
   },
   "outputs": [
    {
     "name": "stdout",
     "output_type": "stream",
     "text": [
      "<class 'pandas.core.frame.DataFrame'>\n",
      "Int64Index: 364779 entries, 0 to 509576\n",
      "Data columns (total 15 columns):\n",
      " #   Column        Non-Null Count   Dtype  \n",
      "---  ------        --------------   -----  \n",
      " 0   region        364779 non-null  object \n",
      " 1   price         364779 non-null  int64  \n",
      " 2   year          364779 non-null  float64\n",
      " 3   manufacturer  354087 non-null  object \n",
      " 4   model         361252 non-null  object \n",
      " 5   condition     216774 non-null  object \n",
      " 6   cylinders     240846 non-null  object \n",
      " 7   fuel          361762 non-null  object \n",
      " 8   odometer      364779 non-null  float64\n",
      " 9   transmission  361773 non-null  object \n",
      " 10  drive         289038 non-null  object \n",
      " 11  size          129523 non-null  object \n",
      " 12  type          294055 non-null  object \n",
      " 13  paint_color   274695 non-null  object \n",
      " 14  state         364779 non-null  object \n",
      "dtypes: float64(2), int64(1), object(12)\n",
      "memory usage: 44.5+ MB\n"
     ]
    }
   ],
   "source": [
    "df3.info()"
   ]
  },
  {
   "cell_type": "code",
   "execution_count": 13,
   "metadata": {},
   "outputs": [],
   "source": [
    "#Taking sample of the whole dataset\n",
    "df3_sample = df3.sample(n=10000,random_state=1)\n",
    "\n",
    "target_sample = df3_sample.price\n",
    "X_sample = df3_sample.drop(['price'], axis=1)\n",
    "\n",
    "X_train, X_test, y_train, y_test = train_test_split(X_sample, target_sample, random_state=0)\n",
    "\n",
    "# columns for continuous, OHE, Target Enconding preprocess\n",
    "cont = [ 'year', 'odometer']\n",
    "cat_OHE = [ 'condition', 'cylinders', 'fuel', 'transmission', 'drive', 'size', 'type', 'paint_color']\n",
    "cat_TE = ['region', 'manufacturer','model', 'state']"
   ]
  },
  {
   "cell_type": "code",
   "execution_count": 14,
   "metadata": {},
   "outputs": [
    {
     "name": "stdout",
     "output_type": "stream",
     "text": [
      "mean score with more preprocessing and data cleaning:  0.6973630840258712\n"
     ]
    }
   ],
   "source": [
    "from sklearn.preprocessing import PolynomialFeatures\n",
    "from category_encoders import TargetEncoder\n",
    "\n",
    "cat_OHE_preprocessing = make_pipeline(\n",
    "    SimpleImputer(strategy='constant', fill_value='NA'),\n",
    "    OneHotEncoder(handle_unknown='ignore'))\n",
    "\n",
    "cat_TE_preprocessing = make_pipeline(\n",
    "    TargetEncoder())\n",
    "\n",
    "cont_preprocessing = make_pipeline(\n",
    "    SimpleImputer(),\n",
    "    StandardScaler(),\n",
    "    PolynomialFeatures())\n",
    "\n",
    "preprocess = make_column_transformer(\n",
    "    (cont_preprocessing, cont),\n",
    "    (cat_OHE_preprocessing, cat_OHE),\n",
    "    (cat_TE_preprocessing, cat_TE))\n",
    "\n",
    "model = make_pipeline(preprocess, LinearRegression())\n",
    "scores = cross_val_score(model, X_train, y_train)\n",
    "print(\"mean score with more preprocessing and data cleaning: \", np.mean(scores))\n"
   ]
  },
  {
   "cell_type": "markdown",
   "metadata": {},
   "source": [
    "Yes more in-depth preprocessing and data cleaning definitely increased the mean cross validation score by a lot (here from 0.06 to 0.697)"
   ]
  },
  {
   "cell_type": "markdown",
   "metadata": {},
   "source": [
    "## Task 4: Any model\n",
    "\n",
    "Use any regression model we discussed (trees, forests, gradient boosting, SVM) to improve\n",
    "your result. You can (and probably should) change your preprocessing and feature engineering\n",
    "to be suitable for the model. You are not required to try all of these models. Tune parameters\n",
    "as appropriate\n",
    "\n",
    "It seems XGBoost (with gridsearch) shows the best score, which is presented at last"
   ]
  },
  {
   "cell_type": "code",
   "execution_count": 15,
   "metadata": {},
   "outputs": [],
   "source": [
    "from sklearn.svm import LinearSVR\n",
    "from sklearn.ensemble import RandomForestRegressor"
   ]
  },
  {
   "cell_type": "code",
   "execution_count": 16,
   "metadata": {},
   "outputs": [
    {
     "data": {
      "text/plain": [
       "0.22138361961888708"
      ]
     },
     "execution_count": 16,
     "metadata": {},
     "output_type": "execute_result"
    }
   ],
   "source": [
    "#Linear SVM Regression - does not seem to work well\n",
    "model_SVM_R = make_pipeline(preprocess, LinearSVR())\n",
    "param_grid = {'linearsvr__C': np.logspace(-3, 3, 4)}\n",
    "grid = GridSearchCV(model_SVM_R, param_grid, cv=6)\n",
    "grid.fit(X_train, y_train)\n",
    "grid.score(X_test, y_test)"
   ]
  },
  {
   "cell_type": "code",
   "execution_count": 17,
   "metadata": {},
   "outputs": [
    {
     "name": "stdout",
     "output_type": "stream",
     "text": [
      "tree mean cv score : 0.5030583888325311\n",
      "test score:  0.5321478530806133\n"
     ]
    }
   ],
   "source": [
    "# Decision Tree Regression\n",
    "from sklearn.tree import DecisionTreeRegressor\n",
    "\n",
    "tree_pipe = make_pipeline(preprocess, DecisionTreeRegressor())\n",
    "\n",
    "print(\"tree mean cv score :\", np.mean(cross_val_score(tree_pipe, X_train, y_train)))\n",
    "tree_pipe.fit(X_train,y_train)\n",
    "print('test score: ',tree_pipe.score(X_test, y_test))"
   ]
  },
  {
   "cell_type": "code",
   "execution_count": 18,
   "metadata": {},
   "outputs": [
    {
     "name": "stdout",
     "output_type": "stream",
     "text": [
      "best test score (estimators): 0.742279907969622\n",
      "\n",
      "The best parameter found is:  {'randomforestregressor__max_features': 'auto'}\n",
      "Best score: 0.782 \n",
      "test score: 0.797 \n"
     ]
    }
   ],
   "source": [
    "# Random Forest with Warm start\n",
    "train_scores = []\n",
    "test_scores = []\n",
    "\n",
    "estimator_range = range(1, 35, 10)\n",
    "for n_estimators in estimator_range:\n",
    "    model_rf = make_pipeline(preprocess, RandomForestRegressor(n_estimators=n_estimators))\n",
    "    model_rf.fit(X_train, y_train)\n",
    "    train_scores.append(model_rf.score(X_train, y_train))\n",
    "    test_scores.append(model_rf.score(X_test, y_test))\n",
    "print(\"best test score (estimators):\", max(test_scores))\n",
    "\n",
    "# Random Forest with grid-search on max_features\n",
    "#-------------------------------------------------------\n",
    "# Note: already ran gridsearch over \n",
    "# 'randomforestregressor__max_features':  ['auto', 'log2', 'sqrt']\n",
    "# and found 'auto' to give the best ressult, with\n",
    "# best score, and test score of _____ respectively. \n",
    "# However, since it took a long time, and because we got \n",
    "# better score from XGB regressor, as shown below,\n",
    "# the codes below are commented out\n",
    "#-------------------------------------------------------\n",
    "\n",
    "# rf = make_pipeline(preprocess, RandomForestRegressor())\n",
    "# rf_grid = {'randomforestregressor__max_features':  ['auto', 'log2', 'sqrt']}\n",
    "# grid_rf = GridSearchCV(rf, rf_grid)\n",
    "# grid_rf.fit(X_train, y_train)\n",
    "\n",
    "# print(\"Grid search of max features\")\n",
    "# print(\"The best parameter found is: \", grid_rf.best_params_)\n",
    "# print(\"Best score: {:.3f}\".format(grid_rf.best_score_))\n",
    "# print(\"test score: {:.3f}\".format(grid_rf.score(X_test, y_test)))\n",
    "\n",
    "print(\"\")\n",
    "print(\"The best parameter found is:\", \" {'randomforestregressor__max_features': 'auto'}\")\n",
    "print(\"Best score: 0.782 \")\n",
    "print(\"test score: 0.797 \")"
   ]
  },
  {
   "cell_type": "code",
   "execution_count": 19,
   "metadata": {
    "scrolled": true
   },
   "outputs": [
    {
     "name": "stdout",
     "output_type": "stream",
     "text": [
      "XGBoost regressor mean cv score : 0.7477032509135891\n",
      "test score:  0.7452853446040177\n",
      "\n",
      "XGBoost best param test score:  0.7718052090374274\n"
     ]
    }
   ],
   "source": [
    "# Gradient Boosting\n",
    "from xgboost import XGBRegressor\n",
    "xgb = make_pipeline(preprocess, XGBRegressor(warm_start = True, silent=True))\n",
    "\n",
    "print(\"XGBoost regressor mean cv score :\", np.mean(cross_val_score(xgb, X_train, y_train, cv = 7)))\n",
    "xgb.fit(X_train,y_train)\n",
    "print('test score: ',xgb.score(X_test, y_test))\n",
    "\n",
    "#XGBoost Grid Search\n",
    "#------------------------------------------------------\n",
    "#Note: Similar to the random forest shown above, already ran the following\n",
    "# gridsearch and found the best parameters of \n",
    "# gamma = 0.3, learning_rate = 0.2, max_depth = 6. \n",
    "# However, since it takes a long time, it was commented out\n",
    "#-------------------------------------------------------\n",
    "\n",
    "# xgbregressor__gamma = [0.3, 0.6, 0.9 ]\n",
    "# xgbregressor__learning_rate = [0.20, 0.40, 0.6, 0.8]\n",
    "# xgbregressor__max_depth = [2, 4, 6, 8, 10]\n",
    "\n",
    "# grid_param_xgbregressor = dict(xgbregressor__gamma = xgbregressor__gamma,\n",
    "#                               xgbregressor__learning_rate = xgbregressor__learning_rate,\n",
    "#                               xgbregressor__max_depth = xgbregressor__max_depth)\n",
    "\n",
    "# grid_xgbregressor = GridSearchCV(xgb, grid_param_xgbregressor)\n",
    "# grid_xgbregressor.fit(X_train, y_train);\n",
    "\n",
    "# print(\"XGBoost regressor girdsearch\")\n",
    "# print(\"The best parameter found is: \", grid_xgbregressor.best_params_)\n",
    "# print(\"Best score: {:.3f}\".format(grid_xgbregressor.best_score_))\n",
    "# print(\"test score: {:.3f}\".format(grid_xgbregressor.score(X_test, y_test)))\n",
    "\n",
    "xgb4 = make_pipeline(preprocess, # i.e. use best parameter values got above\n",
    "                     XGBRegressor(gamma = 0.3, learning_rate = 0.2, max_depth = 6, \n",
    "                                  warm_start = True, silent=True))\n",
    "xgb4.fit(X_train,y_train)\n",
    "print(\"\")\n",
    "print('XGBoost best param test score: ',xgb4.score(X_test, y_test))"
   ]
  },
  {
   "cell_type": "markdown",
   "metadata": {},
   "source": [
    "**XGBoost** seems to give the best results out of other regression models. Accordingly, we would work on this model for the following questions (with the best parameter setting)."
   ]
  },
  {
   "cell_type": "markdown",
   "metadata": {},
   "source": [
    "## Task 5: Feature Selections\n",
    "\n",
    "Identify features that are important for your best model. Which features are most influential,\n",
    "and which features could be removed without decrease in performance? Does removing\n",
    "irrelevant features make your model better? (This will be discussed in the lecture on 03/04)."
   ]
  },
  {
   "cell_type": "code",
   "execution_count": 20,
   "metadata": {},
   "outputs": [
    {
     "name": "stdout",
     "output_type": "stream",
     "text": [
      "XGBoost best param test score:  0.819693290497663\n"
     ]
    }
   ],
   "source": [
    "# Taking larger sample of the whole dataset \n",
    "# (since we found the best parameter setting)\n",
    "df5_sample = df3.sample(n=30000,random_state=1)\n",
    "\n",
    "target_sample = df5_sample.price\n",
    "X_sample = df5_sample.drop(['price'], axis=1)\n",
    "X_train, X_test, y_train, y_test = train_test_split(X_sample, target_sample, random_state=0)\n",
    "\n",
    "xgb5 = make_pipeline(preprocess, # i.e. use best parameter values got on task4\n",
    "                     XGBRegressor(gamma = 0.3, learning_rate = 0.2, max_depth = 6, \n",
    "                                  warm_start = True, silent=True))\n",
    "xgb5.fit(X_train,y_train)\n",
    "print('XGBoost best param test score: ',xgb5.score(X_test, y_test))"
   ]
  },
  {
   "cell_type": "code",
   "execution_count": 21,
   "metadata": {},
   "outputs": [],
   "source": [
    "# Preprocessing without polyonomial features\n",
    "cat_OHE_preprocessing = make_pipeline(\n",
    "    SimpleImputer(strategy='constant', fill_value='NA'),\n",
    "    OneHotEncoder(handle_unknown='ignore'))\n",
    "\n",
    "cat_TE_preprocessing = make_pipeline(\n",
    "    TargetEncoder())\n",
    "\n",
    "cont_preprocessing = make_pipeline(\n",
    "    SimpleImputer(),\n",
    "    StandardScaler())\n",
    "\n",
    "preprocess_wo_poly = make_column_transformer(\n",
    "    (cont_preprocessing, cont),\n",
    "    (cat_OHE_preprocessing, cat_OHE),\n",
    "    (cat_TE_preprocessing, cat_TE))\n",
    "\n",
    "xgb5 = make_pipeline(preprocess_wo_poly, \n",
    "                     XGBRegressor(gamma = 0.3, learning_rate = 0.2, max_depth = 6, \n",
    "                                  warm_start = True, silent=True))\n",
    "xgb5.fit(X_train,y_train);"
   ]
  },
  {
   "cell_type": "code",
   "execution_count": 22,
   "metadata": {},
   "outputs": [
    {
     "data": {
      "text/html": [
       "<div>\n",
       "<style scoped>\n",
       "    .dataframe tbody tr th:only-of-type {\n",
       "        vertical-align: middle;\n",
       "    }\n",
       "\n",
       "    .dataframe tbody tr th {\n",
       "        vertical-align: top;\n",
       "    }\n",
       "\n",
       "    .dataframe thead th {\n",
       "        text-align: right;\n",
       "    }\n",
       "</style>\n",
       "<table border=\"1\" class=\"dataframe\">\n",
       "  <thead>\n",
       "    <tr style=\"text-align: right;\">\n",
       "      <th></th>\n",
       "      <th>0</th>\n",
       "      <th>1</th>\n",
       "    </tr>\n",
       "  </thead>\n",
       "  <tbody>\n",
       "    <tr>\n",
       "      <th>0</th>\n",
       "      <td>0.132</td>\n",
       "      <td>fuel_diesel</td>\n",
       "    </tr>\n",
       "    <tr>\n",
       "      <th>1</th>\n",
       "      <td>0.122</td>\n",
       "      <td>year</td>\n",
       "    </tr>\n",
       "    <tr>\n",
       "      <th>2</th>\n",
       "      <td>0.105</td>\n",
       "      <td>model</td>\n",
       "    </tr>\n",
       "    <tr>\n",
       "      <th>3</th>\n",
       "      <td>0.069</td>\n",
       "      <td>drive_4wd</td>\n",
       "    </tr>\n",
       "    <tr>\n",
       "      <th>4</th>\n",
       "      <td>0.059</td>\n",
       "      <td>drive_fwd</td>\n",
       "    </tr>\n",
       "    <tr>\n",
       "      <th>5</th>\n",
       "      <td>0.040</td>\n",
       "      <td>cylinders_4 cylinders</td>\n",
       "    </tr>\n",
       "    <tr>\n",
       "      <th>6</th>\n",
       "      <td>0.034</td>\n",
       "      <td>cylinders_8 cylinders</td>\n",
       "    </tr>\n",
       "    <tr>\n",
       "      <th>7</th>\n",
       "      <td>0.030</td>\n",
       "      <td>fuel_gas</td>\n",
       "    </tr>\n",
       "    <tr>\n",
       "      <th>8</th>\n",
       "      <td>0.027</td>\n",
       "      <td>condition_good</td>\n",
       "    </tr>\n",
       "    <tr>\n",
       "      <th>9</th>\n",
       "      <td>0.023</td>\n",
       "      <td>odometer</td>\n",
       "    </tr>\n",
       "    <tr>\n",
       "      <th>10</th>\n",
       "      <td>0.018</td>\n",
       "      <td>cylinders_12 cylinders</td>\n",
       "    </tr>\n",
       "    <tr>\n",
       "      <th>11</th>\n",
       "      <td>0.018</td>\n",
       "      <td>condition_fair</td>\n",
       "    </tr>\n",
       "    <tr>\n",
       "      <th>12</th>\n",
       "      <td>0.016</td>\n",
       "      <td>type_SUV</td>\n",
       "    </tr>\n",
       "    <tr>\n",
       "      <th>13</th>\n",
       "      <td>0.015</td>\n",
       "      <td>manufacturer</td>\n",
       "    </tr>\n",
       "    <tr>\n",
       "      <th>14</th>\n",
       "      <td>0.015</td>\n",
       "      <td>condition_NA</td>\n",
       "    </tr>\n",
       "    <tr>\n",
       "      <th>15</th>\n",
       "      <td>0.012</td>\n",
       "      <td>type_truck</td>\n",
       "    </tr>\n",
       "    <tr>\n",
       "      <th>16</th>\n",
       "      <td>0.011</td>\n",
       "      <td>type_sedan</td>\n",
       "    </tr>\n",
       "    <tr>\n",
       "      <th>17</th>\n",
       "      <td>0.011</td>\n",
       "      <td>cylinders_6 cylinders</td>\n",
       "    </tr>\n",
       "    <tr>\n",
       "      <th>18</th>\n",
       "      <td>0.010</td>\n",
       "      <td>type_pickup</td>\n",
       "    </tr>\n",
       "    <tr>\n",
       "      <th>19</th>\n",
       "      <td>0.009</td>\n",
       "      <td>transmission_manual</td>\n",
       "    </tr>\n",
       "  </tbody>\n",
       "</table>\n",
       "</div>"
      ],
      "text/plain": [
       "        0                       1\n",
       "0   0.132             fuel_diesel\n",
       "1   0.122                    year\n",
       "2   0.105                   model\n",
       "3   0.069               drive_4wd\n",
       "4   0.059               drive_fwd\n",
       "5   0.040   cylinders_4 cylinders\n",
       "6   0.034   cylinders_8 cylinders\n",
       "7   0.030                fuel_gas\n",
       "8   0.027          condition_good\n",
       "9   0.023                odometer\n",
       "10  0.018  cylinders_12 cylinders\n",
       "11  0.018          condition_fair\n",
       "12  0.016                type_SUV\n",
       "13  0.015            manufacturer\n",
       "14  0.015            condition_NA\n",
       "15  0.012              type_truck\n",
       "16  0.011              type_sedan\n",
       "17  0.011   cylinders_6 cylinders\n",
       "18  0.010             type_pickup\n",
       "19  0.009     transmission_manual"
      ]
     },
     "execution_count": 22,
     "metadata": {},
     "output_type": "execute_result"
    }
   ],
   "source": [
    "# OHE, Target Encoding, continuous columns\n",
    "cat_OHE_cols = xgb5['columntransformer'].transformers_[1][1]['onehotencoder'].get_feature_names(cat_OHE)\n",
    "cat_TE_cols = xgb5['columntransformer'].transformers_[2][1]['targetencoder'].cols\n",
    "cols =  [ 'year', 'odometer']+ list(cat_OHE_cols) + list(cat_TE_cols)\n",
    "\n",
    "xgb5.steps[1][1].feature_importances_\n",
    "xgb5.steps[1][1].get_booster().get_fscore()\n",
    "\n",
    "feature_importance = list(sorted(zip(map(lambda x: round(x, 3), \n",
    "                    xgb5.steps[1][1].feature_importances_), cols), \n",
    "                     reverse=True))\n",
    "feature_plot = pd.DataFrame(feature_importance)\n",
    "top_15_XGB =feature_plot[:20]\n",
    "top_15_XGB"
   ]
  },
  {
   "cell_type": "markdown",
   "metadata": {},
   "source": [
    "Since it is quite uninterpretable whether one-hot encoded categorical variable is important (i.e. whether fuel is the most important feature or the specific fuel_diesel type is most important), we would first get the features in order or ranking of \"untransformed\" features (in this case, it seems undeniable that the features **year, model, odometer** are positioned to be one of the most important features.  For the remaining columns, we would try to target encode all the categorical variables as shown below to see rankings below these."
   ]
  },
  {
   "cell_type": "code",
   "execution_count": 23,
   "metadata": {},
   "outputs": [
    {
     "data": {
      "text/html": [
       "<div>\n",
       "<style scoped>\n",
       "    .dataframe tbody tr th:only-of-type {\n",
       "        vertical-align: middle;\n",
       "    }\n",
       "\n",
       "    .dataframe tbody tr th {\n",
       "        vertical-align: top;\n",
       "    }\n",
       "\n",
       "    .dataframe thead th {\n",
       "        text-align: right;\n",
       "    }\n",
       "</style>\n",
       "<table border=\"1\" class=\"dataframe\">\n",
       "  <thead>\n",
       "    <tr style=\"text-align: right;\">\n",
       "      <th></th>\n",
       "      <th>0</th>\n",
       "      <th>1</th>\n",
       "    </tr>\n",
       "  </thead>\n",
       "  <tbody>\n",
       "    <tr>\n",
       "      <th>0</th>\n",
       "      <td>0.279</td>\n",
       "      <td>year</td>\n",
       "    </tr>\n",
       "    <tr>\n",
       "      <th>1</th>\n",
       "      <td>0.206</td>\n",
       "      <td>model</td>\n",
       "    </tr>\n",
       "    <tr>\n",
       "      <th>2</th>\n",
       "      <td>0.160</td>\n",
       "      <td>fuel</td>\n",
       "    </tr>\n",
       "    <tr>\n",
       "      <th>3</th>\n",
       "      <td>0.102</td>\n",
       "      <td>drive</td>\n",
       "    </tr>\n",
       "    <tr>\n",
       "      <th>4</th>\n",
       "      <td>0.056</td>\n",
       "      <td>cylinders</td>\n",
       "    </tr>\n",
       "    <tr>\n",
       "      <th>5</th>\n",
       "      <td>0.045</td>\n",
       "      <td>odometer</td>\n",
       "    </tr>\n",
       "    <tr>\n",
       "      <th>6</th>\n",
       "      <td>0.036</td>\n",
       "      <td>condition</td>\n",
       "    </tr>\n",
       "    <tr>\n",
       "      <th>7</th>\n",
       "      <td>0.030</td>\n",
       "      <td>type</td>\n",
       "    </tr>\n",
       "    <tr>\n",
       "      <th>8</th>\n",
       "      <td>0.025</td>\n",
       "      <td>manufacturer</td>\n",
       "    </tr>\n",
       "    <tr>\n",
       "      <th>9</th>\n",
       "      <td>0.016</td>\n",
       "      <td>region</td>\n",
       "    </tr>\n",
       "    <tr>\n",
       "      <th>10</th>\n",
       "      <td>0.013</td>\n",
       "      <td>transmission</td>\n",
       "    </tr>\n",
       "    <tr>\n",
       "      <th>11</th>\n",
       "      <td>0.013</td>\n",
       "      <td>state</td>\n",
       "    </tr>\n",
       "    <tr>\n",
       "      <th>12</th>\n",
       "      <td>0.010</td>\n",
       "      <td>size</td>\n",
       "    </tr>\n",
       "    <tr>\n",
       "      <th>13</th>\n",
       "      <td>0.008</td>\n",
       "      <td>paint_color</td>\n",
       "    </tr>\n",
       "  </tbody>\n",
       "</table>\n",
       "</div>"
      ],
      "text/plain": [
       "        0             1\n",
       "0   0.279          year\n",
       "1   0.206         model\n",
       "2   0.160          fuel\n",
       "3   0.102         drive\n",
       "4   0.056     cylinders\n",
       "5   0.045      odometer\n",
       "6   0.036     condition\n",
       "7   0.030          type\n",
       "8   0.025  manufacturer\n",
       "9   0.016        region\n",
       "10  0.013  transmission\n",
       "11  0.013         state\n",
       "12  0.010          size\n",
       "13  0.008   paint_color"
      ]
     },
     "execution_count": 23,
     "metadata": {},
     "output_type": "execute_result"
    }
   ],
   "source": [
    "# To test what would happen if we all do target encoder on categorical variables\n",
    "cat = cat_OHE + cat_TE\n",
    "\n",
    "# Preprocessing without polyonomial features\n",
    "cat_preprocessing = make_pipeline(\n",
    "    TargetEncoder())\n",
    "\n",
    "cont_preprocessing = make_pipeline(\n",
    "    SimpleImputer(),\n",
    "    StandardScaler())\n",
    "\n",
    "preprocess_wo_poly_comb = make_column_transformer(\n",
    "    (cont_preprocessing, cont),\n",
    "    (cat_preprocessing, cat))\n",
    "\n",
    "xgb5 = make_pipeline(preprocess_wo_poly_comb, \n",
    "                     XGBRegressor(gamma = 0.3, learning_rate = 0.2, max_depth = 6, \n",
    "                                  warm_start = True, silent=True))\n",
    "xgb5.fit(X_train,y_train);\n",
    "\n",
    "cat_cols = xgb5['columntransformer'].transformers_[1][1]['targetencoder'].cols\n",
    "cols =  [ 'year', 'odometer']+ cat\n",
    "\n",
    "xgb5.steps[1][1].feature_importances_\n",
    "xgb5.steps[1][1].get_booster().get_fscore()\n",
    "\n",
    "feature_importance = list(sorted(zip(map(lambda x: round(x, 3), xgb5.steps[1][1].feature_importances_), cols), \n",
    "              reverse=True))\n",
    "feature_plot_XGB_TE = pd.DataFrame(feature_importance)\n",
    "feature_plot_XGB_TE"
   ]
  },
  {
   "cell_type": "markdown",
   "metadata": {},
   "source": [
    "Thus, next successive important features after year, model, odometer, manufacturer (using XGBregressor) shows to be be fuel, drive, cylinders, condition, type, transmission.\n",
    "\n",
    "It seems consistent that top 3 most important features are **year, model, odometer**, and so on. Following code also look at rankings got from RFE method and mutual information method."
   ]
  },
  {
   "cell_type": "code",
   "execution_count": 24,
   "metadata": {},
   "outputs": [
    {
     "data": {
      "text/html": [
       "<div>\n",
       "<style scoped>\n",
       "    .dataframe tbody tr th:only-of-type {\n",
       "        vertical-align: middle;\n",
       "    }\n",
       "\n",
       "    .dataframe tbody tr th {\n",
       "        vertical-align: top;\n",
       "    }\n",
       "\n",
       "    .dataframe thead th {\n",
       "        text-align: right;\n",
       "    }\n",
       "</style>\n",
       "<table border=\"1\" class=\"dataframe\">\n",
       "  <thead>\n",
       "    <tr style=\"text-align: right;\">\n",
       "      <th></th>\n",
       "      <th>feature</th>\n",
       "      <th>RFE_rank</th>\n",
       "    </tr>\n",
       "  </thead>\n",
       "  <tbody>\n",
       "    <tr>\n",
       "      <th>0</th>\n",
       "      <td>odometer</td>\n",
       "      <td>1</td>\n",
       "    </tr>\n",
       "    <tr>\n",
       "      <th>1</th>\n",
       "      <td>year</td>\n",
       "      <td>2</td>\n",
       "    </tr>\n",
       "    <tr>\n",
       "      <th>11</th>\n",
       "      <td>model</td>\n",
       "      <td>3</td>\n",
       "    </tr>\n",
       "    <tr>\n",
       "      <th>4</th>\n",
       "      <td>fuel</td>\n",
       "      <td>4</td>\n",
       "    </tr>\n",
       "    <tr>\n",
       "      <th>5</th>\n",
       "      <td>drive</td>\n",
       "      <td>5</td>\n",
       "    </tr>\n",
       "    <tr>\n",
       "      <th>10</th>\n",
       "      <td>region</td>\n",
       "      <td>6</td>\n",
       "    </tr>\n",
       "    <tr>\n",
       "      <th>3</th>\n",
       "      <td>cylinders</td>\n",
       "      <td>7</td>\n",
       "    </tr>\n",
       "    <tr>\n",
       "      <th>8</th>\n",
       "      <td>transmission</td>\n",
       "      <td>8</td>\n",
       "    </tr>\n",
       "    <tr>\n",
       "      <th>2</th>\n",
       "      <td>condition</td>\n",
       "      <td>9</td>\n",
       "    </tr>\n",
       "    <tr>\n",
       "      <th>9</th>\n",
       "      <td>type</td>\n",
       "      <td>10</td>\n",
       "    </tr>\n",
       "    <tr>\n",
       "      <th>6</th>\n",
       "      <td>paint_color</td>\n",
       "      <td>11</td>\n",
       "    </tr>\n",
       "    <tr>\n",
       "      <th>12</th>\n",
       "      <td>manufacturer</td>\n",
       "      <td>12</td>\n",
       "    </tr>\n",
       "    <tr>\n",
       "      <th>7</th>\n",
       "      <td>state</td>\n",
       "      <td>13</td>\n",
       "    </tr>\n",
       "  </tbody>\n",
       "</table>\n",
       "</div>"
      ],
      "text/plain": [
       "         feature  RFE_rank\n",
       "0       odometer         1\n",
       "1           year         2\n",
       "11         model         3\n",
       "4           fuel         4\n",
       "5          drive         5\n",
       "10        region         6\n",
       "3      cylinders         7\n",
       "8   transmission         8\n",
       "2      condition         9\n",
       "9           type        10\n",
       "6    paint_color        11\n",
       "12  manufacturer        12\n",
       "7          state        13"
      ]
     },
     "execution_count": 24,
     "metadata": {},
     "output_type": "execute_result"
    }
   ],
   "source": [
    "# RFE method\n",
    "\n",
    "from sklearn.feature_selection import RFE\n",
    "\n",
    "#Target Encode all categorical features \n",
    "cat = ['condition', 'cylinders', 'fuel', 'drive', 'paint_color', \n",
    "           'state', 'transmission','type', 'region','model', 'manufacturer']\n",
    "cont = ['odometer', 'year']\n",
    "\n",
    "te = TargetEncoder(cols = cat)\n",
    "X_train_cat = te.fit_transform(X_train[cat],y_train)\n",
    "\n",
    "cont_preprocessing = make_pipeline(\n",
    "    SimpleImputer(strategy = 'mean'),\n",
    "    StandardScaler()\n",
    "    )\n",
    "preprocess_rfe = make_column_transformer(\n",
    "    (cont_preprocessing, cont)\n",
    "    )\n",
    "\n",
    "X_train_cont = preprocess_rfe.fit_transform(X_train)\n",
    "X_train_cont = pd.DataFrame(X_train_cont, columns = cont)\n",
    "X_train_cont = X_train_cont.set_index(X_train_cat.index)\n",
    "\n",
    "X_train_preprocess = pd.concat([X_train_cont, X_train_cat], axis = 1)\n",
    "\n",
    "rfe = RFE(LinearRegression(), n_features_to_select=1)\n",
    "rfe.fit(X_train_preprocess, y_train)\n",
    "\n",
    "rfe_col =pd.Series(list((X_train_preprocess.columns)))\n",
    "rfe_rank = pd.concat([rfe_col, pd.Series(rfe.ranking_)], axis = 1)\n",
    "rfe_rank.columns = ['feature','RFE_rank']\n",
    "rfe_result = rfe_rank.sort_values(by=['RFE_rank'])\n",
    "rfe_result"
   ]
  },
  {
   "cell_type": "code",
   "execution_count": 25,
   "metadata": {
    "scrolled": true
   },
   "outputs": [
    {
     "data": {
      "text/html": [
       "<div>\n",
       "<style scoped>\n",
       "    .dataframe tbody tr th:only-of-type {\n",
       "        vertical-align: middle;\n",
       "    }\n",
       "\n",
       "    .dataframe tbody tr th {\n",
       "        vertical-align: top;\n",
       "    }\n",
       "\n",
       "    .dataframe thead th {\n",
       "        text-align: right;\n",
       "    }\n",
       "</style>\n",
       "<table border=\"1\" class=\"dataframe\">\n",
       "  <thead>\n",
       "    <tr style=\"text-align: right;\">\n",
       "      <th></th>\n",
       "      <th>feature</th>\n",
       "      <th>mutual_info_regression_score</th>\n",
       "    </tr>\n",
       "  </thead>\n",
       "  <tbody>\n",
       "    <tr>\n",
       "      <th>11</th>\n",
       "      <td>model</td>\n",
       "      <td>0.426226</td>\n",
       "    </tr>\n",
       "    <tr>\n",
       "      <th>1</th>\n",
       "      <td>year</td>\n",
       "      <td>0.379172</td>\n",
       "    </tr>\n",
       "    <tr>\n",
       "      <th>0</th>\n",
       "      <td>odometer</td>\n",
       "      <td>0.302955</td>\n",
       "    </tr>\n",
       "    <tr>\n",
       "      <th>2</th>\n",
       "      <td>condition</td>\n",
       "      <td>0.160600</td>\n",
       "    </tr>\n",
       "    <tr>\n",
       "      <th>9</th>\n",
       "      <td>type</td>\n",
       "      <td>0.156466</td>\n",
       "    </tr>\n",
       "    <tr>\n",
       "      <th>12</th>\n",
       "      <td>manufacturer</td>\n",
       "      <td>0.132846</td>\n",
       "    </tr>\n",
       "    <tr>\n",
       "      <th>7</th>\n",
       "      <td>state</td>\n",
       "      <td>0.129199</td>\n",
       "    </tr>\n",
       "    <tr>\n",
       "      <th>10</th>\n",
       "      <td>region</td>\n",
       "      <td>0.121944</td>\n",
       "    </tr>\n",
       "    <tr>\n",
       "      <th>5</th>\n",
       "      <td>drive</td>\n",
       "      <td>0.098573</td>\n",
       "    </tr>\n",
       "    <tr>\n",
       "      <th>3</th>\n",
       "      <td>cylinders</td>\n",
       "      <td>0.085328</td>\n",
       "    </tr>\n",
       "    <tr>\n",
       "      <th>4</th>\n",
       "      <td>fuel</td>\n",
       "      <td>0.070301</td>\n",
       "    </tr>\n",
       "    <tr>\n",
       "      <th>6</th>\n",
       "      <td>paint_color</td>\n",
       "      <td>0.060170</td>\n",
       "    </tr>\n",
       "    <tr>\n",
       "      <th>8</th>\n",
       "      <td>transmission</td>\n",
       "      <td>0.023958</td>\n",
       "    </tr>\n",
       "  </tbody>\n",
       "</table>\n",
       "</div>"
      ],
      "text/plain": [
       "         feature  mutual_info_regression_score\n",
       "11         model                      0.426226\n",
       "1           year                      0.379172\n",
       "0       odometer                      0.302955\n",
       "2      condition                      0.160600\n",
       "9           type                      0.156466\n",
       "12  manufacturer                      0.132846\n",
       "7          state                      0.129199\n",
       "10        region                      0.121944\n",
       "5          drive                      0.098573\n",
       "3      cylinders                      0.085328\n",
       "4           fuel                      0.070301\n",
       "6    paint_color                      0.060170\n",
       "8   transmission                      0.023958"
      ]
     },
     "execution_count": 25,
     "metadata": {},
     "output_type": "execute_result"
    }
   ],
   "source": [
    "# Mutual Information\n",
    "\n",
    "from sklearn.feature_selection import mutual_info_regression\n",
    "\n",
    "scores = mutual_info_regression(X_train_preprocess, y_train)\n",
    "\n",
    "mif_col =pd.Series(list((X_train_preprocess.columns)))\n",
    "mif_rank = pd.concat([rfe_col, pd.Series(scores)], axis = 1)\n",
    "mif_rank.columns = ['feature','mutual_info_regression_score']\n",
    "mif_result = mif_rank.sort_values(by=['mutual_info_regression_score'],ascending = False)\n",
    "mif_result"
   ]
  },
  {
   "cell_type": "markdown",
   "metadata": {},
   "source": [
    "Comparing rankings got from XGBregressor, RFE, mutual information methods, the successive 5 most important features besides year, model, odometer are fuel, drive, cylinders, type, and condition"
   ]
  },
  {
   "cell_type": "code",
   "execution_count": 26,
   "metadata": {},
   "outputs": [
    {
     "name": "stdout",
     "output_type": "stream",
     "text": [
      "XGB test score with 8 selected features:  0.8053778795381846\n",
      "XGB test score with whole set of features:  0.7856768885844863\n"
     ]
    }
   ],
   "source": [
    "# features importance in decreasing top 8 ranking\n",
    "top_8 = ['year','model','odometer','fuel', 'drive','cylinders', 'condition','type']\n",
    "\n",
    "cont = ['year', 'odometer']\n",
    "cat_OHE = [ 'cylinders', 'fuel', 'condition', 'drive', 'type']\n",
    "cat_TE = ['model']\n",
    "\n",
    "cat_OHE_preprocessing = make_pipeline(\n",
    "    SimpleImputer(strategy='constant', fill_value='NA'),\n",
    "    OneHotEncoder(handle_unknown='ignore'))\n",
    "\n",
    "cat_TE_preprocessing = make_pipeline(\n",
    "    TargetEncoder())\n",
    "\n",
    "cont_preprocessing = make_pipeline(\n",
    "    SimpleImputer(),\n",
    "    StandardScaler(),\n",
    "    PolynomialFeatures())\n",
    "\n",
    "preprocess = make_column_transformer(\n",
    "    (cont_preprocessing, cont),\n",
    "    (cat_OHE_preprocessing, cat_OHE),\n",
    "    (cat_TE_preprocessing, cat_TE))\n",
    "\n",
    "xgb5 = make_pipeline(preprocess, \n",
    "                     XGBRegressor(gamma = 0.3, learning_rate = 0.2, max_depth = 6, \n",
    "                                  warm_start = True, silent=True))\n",
    "xgb5.fit(X_train,y_train);\n",
    "print('XGB test score with 8 selected features: ',xgb5.score(X_test, y_test))\n",
    "print('XGB test score with whole set of features: ',xgb4.score(X_test, y_test))\n"
   ]
  },
  {
   "cell_type": "markdown",
   "metadata": {},
   "source": [
    "Thus, although the model with 8 selected features ( **'year','model','odometer','fuel', 'drive','cylinders', 'condition','type'**) result in slightly lower test result, considering it consists of nearly half of original number of columns, this still remains to be a good, reasonable model"
   ]
  },
  {
   "cell_type": "markdown",
   "metadata": {},
   "source": [
    "## Task 6: An explainable model\n",
    "\n",
    "Can you create an “explainable” model that is nearly as good as your best model?\n",
    "An explainable model should be small enough to be easily inspected - say a linear model with\n",
    "few enough coefficients that you can reasonably look at all of them, or a tree with a small\n",
    "number of leaves etc."
   ]
  },
  {
   "cell_type": "code",
   "execution_count": 27,
   "metadata": {},
   "outputs": [
    {
     "name": "stdout",
     "output_type": "stream",
     "text": [
      "lineaer regression mean score with 8 selected features:  0.7080358151009362\n",
      "lineaer regression mean score with 5 selected features:  0.6774049551514569\n"
     ]
    }
   ],
   "source": [
    "# Simple understandable, lienar regression model with 8 selected features\n",
    "model_LR_8 = make_pipeline(preprocess, LinearRegression())\n",
    "scores = cross_val_score(model_LR_8, X_train, y_train)\n",
    "print(\"lineaer regression mean score with 8 selected features: \", np.mean(scores))\n",
    "\n",
    "# Selected 5 features\n",
    "cont = ['year', 'odometer']\n",
    "cat_OHE = [ 'fuel', 'drive']\n",
    "cat_TE = ['model']\n",
    "\n",
    "cat_OHE_preprocessing = make_pipeline(\n",
    "    SimpleImputer(strategy='constant', fill_value='NA'),\n",
    "    OneHotEncoder(handle_unknown='ignore'))\n",
    "\n",
    "cat_TE_preprocessing = make_pipeline(\n",
    "    TargetEncoder())\n",
    "\n",
    "cont_preprocessing = make_pipeline(\n",
    "    SimpleImputer(),\n",
    "    StandardScaler(),\n",
    "    PolynomialFeatures())\n",
    "\n",
    "preprocess = make_column_transformer(\n",
    "    (cont_preprocessing, cont),\n",
    "    (cat_OHE_preprocessing, cat_OHE),\n",
    "    (cat_TE_preprocessing, cat_TE))\n",
    "\n",
    "model_LR_5 = make_pipeline(preprocess, LinearRegression())\n",
    "scores = cross_val_score(model_LR_5, X_train, y_train)\n",
    "print(\"lineaer regression mean score with 5 selected features: \", np.mean(scores))"
   ]
  },
  {
   "cell_type": "code",
   "execution_count": 28,
   "metadata": {
    "scrolled": true
   },
   "outputs": [
    {
     "data": {
      "text/html": [
       "<div>\n",
       "<style scoped>\n",
       "    .dataframe tbody tr th:only-of-type {\n",
       "        vertical-align: middle;\n",
       "    }\n",
       "\n",
       "    .dataframe tbody tr th {\n",
       "        vertical-align: top;\n",
       "    }\n",
       "\n",
       "    .dataframe thead th {\n",
       "        text-align: right;\n",
       "    }\n",
       "</style>\n",
       "<table border=\"1\" class=\"dataframe\">\n",
       "  <thead>\n",
       "    <tr style=\"text-align: right;\">\n",
       "      <th></th>\n",
       "      <th>feature</th>\n",
       "      <th>LR coef</th>\n",
       "      <th>abs of LR coef</th>\n",
       "    </tr>\n",
       "  </thead>\n",
       "  <tbody>\n",
       "    <tr>\n",
       "      <th>7</th>\n",
       "      <td>x0_diesel</td>\n",
       "      <td>6173.618062</td>\n",
       "      <td>6173.618062</td>\n",
       "    </tr>\n",
       "    <tr>\n",
       "      <th>1</th>\n",
       "      <td>year</td>\n",
       "      <td>4835.277942</td>\n",
       "      <td>4835.277942</td>\n",
       "    </tr>\n",
       "    <tr>\n",
       "      <th>8</th>\n",
       "      <td>x0_electric</td>\n",
       "      <td>-3727.293648</td>\n",
       "      <td>3727.293648</td>\n",
       "    </tr>\n",
       "    <tr>\n",
       "      <th>16</th>\n",
       "      <td>model</td>\n",
       "      <td>3634.160392</td>\n",
       "      <td>3634.160392</td>\n",
       "    </tr>\n",
       "    <tr>\n",
       "      <th>2</th>\n",
       "      <td>odometer</td>\n",
       "      <td>-2484.294104</td>\n",
       "      <td>2484.294104</td>\n",
       "    </tr>\n",
       "    <tr>\n",
       "      <th>14</th>\n",
       "      <td>x1_fwd</td>\n",
       "      <td>-2254.218411</td>\n",
       "      <td>2254.218411</td>\n",
       "    </tr>\n",
       "    <tr>\n",
       "      <th>12</th>\n",
       "      <td>x1_4wd</td>\n",
       "      <td>2197.456871</td>\n",
       "      <td>2197.456871</td>\n",
       "    </tr>\n",
       "    <tr>\n",
       "      <th>9</th>\n",
       "      <td>x0_gas</td>\n",
       "      <td>-1630.655665</td>\n",
       "      <td>1630.655665</td>\n",
       "    </tr>\n",
       "    <tr>\n",
       "      <th>3</th>\n",
       "      <td>year_squared</td>\n",
       "      <td>890.733845</td>\n",
       "      <td>890.733845</td>\n",
       "    </tr>\n",
       "    <tr>\n",
       "      <th>10</th>\n",
       "      <td>x0_hybrid</td>\n",
       "      <td>-715.631225</td>\n",
       "      <td>715.631225</td>\n",
       "    </tr>\n",
       "    <tr>\n",
       "      <th>4</th>\n",
       "      <td>year*odometer</td>\n",
       "      <td>-537.631235</td>\n",
       "      <td>537.631235</td>\n",
       "    </tr>\n",
       "    <tr>\n",
       "      <th>15</th>\n",
       "      <td>x1_rwd</td>\n",
       "      <td>498.334054</td>\n",
       "      <td>498.334054</td>\n",
       "    </tr>\n",
       "    <tr>\n",
       "      <th>13</th>\n",
       "      <td>x1_NA</td>\n",
       "      <td>-441.572515</td>\n",
       "      <td>441.572515</td>\n",
       "    </tr>\n",
       "    <tr>\n",
       "      <th>11</th>\n",
       "      <td>x0_other</td>\n",
       "      <td>-51.537766</td>\n",
       "      <td>51.537766</td>\n",
       "    </tr>\n",
       "    <tr>\n",
       "      <th>6</th>\n",
       "      <td>x0_NA</td>\n",
       "      <td>-48.499759</td>\n",
       "      <td>48.499759</td>\n",
       "    </tr>\n",
       "    <tr>\n",
       "      <th>5</th>\n",
       "      <td>odometer_squared</td>\n",
       "      <td>-41.089631</td>\n",
       "      <td>41.089631</td>\n",
       "    </tr>\n",
       "    <tr>\n",
       "      <th>0</th>\n",
       "      <td>1</td>\n",
       "      <td>0.000000</td>\n",
       "      <td>0.000000</td>\n",
       "    </tr>\n",
       "  </tbody>\n",
       "</table>\n",
       "</div>"
      ],
      "text/plain": [
       "             feature      LR coef  abs of LR coef\n",
       "7          x0_diesel  6173.618062     6173.618062\n",
       "1               year  4835.277942     4835.277942\n",
       "8        x0_electric -3727.293648     3727.293648\n",
       "16             model  3634.160392     3634.160392\n",
       "2           odometer -2484.294104     2484.294104\n",
       "14            x1_fwd -2254.218411     2254.218411\n",
       "12            x1_4wd  2197.456871     2197.456871\n",
       "9             x0_gas -1630.655665     1630.655665\n",
       "3       year_squared   890.733845      890.733845\n",
       "10         x0_hybrid  -715.631225      715.631225\n",
       "4      year*odometer  -537.631235      537.631235\n",
       "15            x1_rwd   498.334054      498.334054\n",
       "13             x1_NA  -441.572515      441.572515\n",
       "11          x0_other   -51.537766       51.537766\n",
       "6              x0_NA   -48.499759       48.499759\n",
       "5   odometer_squared   -41.089631       41.089631\n",
       "0                  1     0.000000        0.000000"
      ]
     },
     "execution_count": 28,
     "metadata": {},
     "output_type": "execute_result"
    }
   ],
   "source": [
    "X_col_wo_TE = ['year', 'odometer', 'fuel', 'drive']\n",
    "cont = ['year', 'odometer']\n",
    "cat_OHE = [ 'fuel', 'drive']\n",
    "cat_TE = ['model']\n",
    "\n",
    "te = TargetEncoder(cols = cat_TE)\n",
    "X_train_cat_TE = te.fit_transform(X_train[cat_TE],y_train)\n",
    "X_train_cat_TE = StandardScaler().fit_transform(X_train_cat_TE)\n",
    "X_train_cat_TE = pd.DataFrame(X_train_cat_TE, columns = cat_TE)\n",
    "\n",
    "\n",
    "cat_OHE_preprocessing = make_pipeline(\n",
    "    SimpleImputer(strategy='constant', fill_value='NA'),\n",
    "    OneHotEncoder(handle_unknown='ignore'))\n",
    "X_train_cat_OHE = SimpleImputer(strategy='constant', fill_value='NA').fit_transform(X_train[cat_OHE])\n",
    "ohe = OneHotEncoder().fit(X_train_cat_OHE)\n",
    "X_train_cat_OHE = ohe.transform(X_train_cat_OHE).toarray()\n",
    "X_train_cat_OHE = pd.DataFrame(X_train_cat_OHE, columns = ohe.get_feature_names())\n",
    "X_train_cat_OHE = X_train_cat_OHE.set_index(X_train_cat_TE.index)\n",
    "\n",
    "\n",
    "cont_preprocessing = make_pipeline(\n",
    "    SimpleImputer(),\n",
    "    StandardScaler(),\n",
    "    PolynomialFeatures())\n",
    "\n",
    "preprocess = make_column_transformer(\n",
    "    (cont_preprocessing, cont)\n",
    "    )\n",
    "\n",
    "cont_column = ['1','year','odometer','year_squared','year*odometer','odometer_squared']\n",
    "X_train_cont = preprocess.fit_transform(X_train)\n",
    "X_train_cont = pd.DataFrame(X_train_cont, columns = cont_column)\n",
    "X_train_cont = X_train_cont.set_index(X_train_cat_TE.index)\n",
    "X_train_preprocess = pd.concat([X_train_cont, X_train_cat_OHE, X_train_cat_TE], axis = 1)\n",
    "ols = LinearRegression().fit(X_train_preprocess, y_train)\n",
    "\n",
    "\n",
    "col = pd.Series(list(X_train_preprocess.columns))\n",
    "ols_coef = pd.concat([col, pd.Series(ols.coef_),pd.Series(abs(ols.coef_))], axis = 1)\n",
    "ols_coef.columns = ['feature','LR coef', 'abs of LR coef']\n",
    "ols_coef = ols_coef.sort_values(by=['abs of LR coef'], ascending = False)\n",
    "ols_coef"
   ]
  },
  {
   "cell_type": "code",
   "execution_count": 29,
   "metadata": {},
   "outputs": [
    {
     "data": {
      "text/plain": [
       "<matplotlib.axes._subplots.AxesSubplot at 0x27fd960b860>"
      ]
     },
     "execution_count": 29,
     "metadata": {},
     "output_type": "execute_result"
    },
    {
     "data": {
      "image/png": "[encoded data removed]",
      "text/plain": [
       "<Figure size 432x288 with 1 Axes>"
      ]
     },
     "metadata": {
      "needs_background": "light"
     },
     "output_type": "display_data"
    }
   ],
   "source": [
    "sns.barplot (y='feature',x=  'LR coef', data =ols_coef, orient = 'h')"
   ]
  },
  {
   "cell_type": "markdown",
   "metadata": {},
   "source": [
    "For the expalinable model, we have choosed the linear regression with selected features from the task5. We have selected top 5 features, which are 'year', 'odometer', 'fuel', 'drive', and 'model'. The mean cv score of the linear regression is around 0.677. As one can see from the above graph, the year, model, and odometer are ranked on the top section. The higher year, meaning newer car, has a positive effect on the price, whereas the lower odometer has a negative effect on the price (clearly as more of the car has been used, its price should be lower. Moreover, different model has a great impact on the price as well. \n",
    "For the drive mode, four wheel drive and a rear wheel drive has a positive effect on the price whereas the forward wheel drive has a negative impact on the price, which might indicate people's preference on the drive. For the fuel, only diesel fuel car has a positive impact on the price, which might be caused by scarcity of the diesel cars. "
   ]
  }
 ],
 "metadata": {
  "kernelspec": {
   "display_name": "Python 3",
   "language": "python",
   "name": "python3"
  },
  "language_info": {
   "codemirror_mode": {
    "name": "ipython",
    "version": 3
   },
   "file_extension": ".py",
   "mimetype": "text/x-python",
   "name": "python",
   "nbconvert_exporter": "python",
   "pygments_lexer": "ipython3",
   "version": "3.7.3"
  }
 },
 "nbformat": 4,
 "nbformat_minor": 4
}
