{
 "cells": [
  {
   "cell_type": "markdown",
   "metadata": {
    "colab_type": "text",
    "id": "1YkulljuPjLN"
   },
   "source": [
    "All the tasks are to be completed using the keras Sequential interface . It’s recommended that\n",
    "you run your code on GPU using google colab:\n",
    "https://colab.research.google.com/\n",
    "You can find a starter notebook here if you haven’t used colab before:\n",
    "https://colab.research.google.com/github/tensorflow/docs/blob/master/site/en/tutorials/quicks\n",
    "tart/beginner.ipynb"
   ]
  },
  {
   "cell_type": "markdown",
   "metadata": {
    "colab_type": "text",
    "id": "gRwbizSOE_lh"
   },
   "source": [
    "## Task 1\n",
    "\n",
    "Train a multilayer perceptron (fully connected) on the Fashion MNIST dataset using the\n",
    "traditional train/test split as given by fashion_mnist.load_data in keras. Use a separate 10000\n",
    "samples (from the training set) for model selection and to compute learning curves (accuracy\n",
    "vs epochs, not accuracy vs n_samples). Compare a “vanilla” model with a model using\n",
    "drop-out and evaluate if using drop-out allows you to learn a bigger network. Then, compare to\n",
    "a model using batch normalization. Visualize learning curves for all models."
   ]
  },
  {
   "cell_type": "code",
   "execution_count": 0,
   "metadata": {
    "colab": {
     "base_uri": "https://localhost:8080/",
     "height": 35
    },
    "colab_type": "code",
    "id": "wflU0WPkCUhd",
    "outputId": "946393b1-49d5-47e1-85ef-b409b06f6816"
   },
   "outputs": [
    {
     "name": "stderr",
     "output_type": "stream",
     "text": [
      "Using TensorFlow backend.\n"
     ]
    }
   ],
   "source": [
    "from keras.models import Sequential\n",
    "from keras.layers import Dense, Activation, Flatten, Dropout, BatchNormalization\n",
    "from sklearn.model_selection import train_test_split\n",
    "from sklearn.datasets import load_digits\n",
    "from keras.wrappers.scikit_learn import KerasClassifier, KerasRegressor\n",
    "from keras import regularizers\n",
    "from keras.datasets import fashion_mnist\n",
    "import keras\n",
    "\n",
    "import numpy as np\n",
    "import matplotlib.pyplot as plt"
   ]
  },
  {
   "cell_type": "code",
   "execution_count": 0,
   "metadata": {
    "colab": {
     "base_uri": "https://localhost:8080/",
     "height": 53
    },
    "colab_type": "code",
    "id": "VbikW9PyNmVK",
    "outputId": "0742c499-7feb-4cb2-ff7c-fb0a47853fe2"
   },
   "outputs": [
    {
     "name": "stdout",
     "output_type": "stream",
     "text": [
      "(60000, 28, 28) (60000,) (10000, 28, 28) (10000,)\n",
      "(50000, 28, 28) (50000,) (10000, 28, 28) (10000,)\n"
     ]
    }
   ],
   "source": [
    "# the data, shuffled and split between train and test sets\n",
    "(X_trainval, y_trainval), (X_test, y_test) =  fashion_mnist.load_data()\n",
    "\n",
    "X_train, X_val, y_train, y_val = train_test_split(X_trainval, y_trainval, train_size = 5/6 , random_state=1)\n",
    "\n",
    "print(X_trainval.shape ,y_trainval.shape, X_test.shape, y_test.shape )\n",
    "print(X_train.shape ,y_train.shape, X_val.shape, y_val.shape )\n"
   ]
  },
  {
   "cell_type": "code",
   "execution_count": 0,
   "metadata": {
    "colab": {
     "base_uri": "https://localhost:8080/",
     "height": 53
    },
    "colab_type": "code",
    "id": "bGQF1XQdE4d2",
    "outputId": "bc984ae5-3e1f-4552-b668-2cee0a976f32"
   },
   "outputs": [
    {
     "name": "stdout",
     "output_type": "stream",
     "text": [
      "(50000, 784) train sample's shape\n",
      "(10000, 784) test sample's shape\n"
     ]
    }
   ],
   "source": [
    "#preparing data\n",
    "batch_size = 128\n",
    "epochs = 100\n",
    "num_classes = 10\n",
    "\n",
    "X_train = X_train.reshape(X_train.shape[0], 784) # i.e. size of 50000 x 784\n",
    "X_val = X_val.reshape(X_val.shape[0], 784) # i.e. size of 10000 X 784\n",
    "X_train = X_train.astype('float32') # scaling between 0 and 1\n",
    "X_val = X_val.astype('float32')\n",
    "X_train /= 255 #i.e. divide by max\n",
    "X_val /= 255\n",
    "print(X_train.shape, \"train sample's shape\")\n",
    "print(X_val.shape, \"test sample's shape\")\n",
    "\n",
    "# convert class vectors to binary class matrices\n",
    "y_train = keras.utils.to_categorical(y_train, num_classes)\n",
    "y_val = keras.utils.to_categorical(y_val, num_classes)"
   ]
  },
  {
   "cell_type": "code",
   "execution_count": 0,
   "metadata": {
    "colab": {
     "base_uri": "https://localhost:8080/",
     "height": 127
    },
    "colab_type": "code",
    "id": "7oeM2pBUf3d_",
    "outputId": "a7314135-8900-47fd-f3e9-5e24a83dc9c8"
   },
   "outputs": [
    {
     "name": "stdout",
     "output_type": "stream",
     "text": [
      "Optimizer : Adam\n",
      "Validation loss = 0.330\n",
      "Validation accuracy =  0.882\n",
      "Optimizer : RMSprop\n",
      "Validation loss = 0.367\n",
      "Validation accuracy =  0.883\n"
     ]
    }
   ],
   "source": [
    "# i.e. 'vanilla' model \n",
    "hidden_size = 128\n",
    "model = Sequential()\n",
    "model.add(Dense(hidden_size, input_shape=(784,), activation='relu')) # first hidden layer\n",
    "model.add(Dense(hidden_size , activation='relu')) # second hidden layer\n",
    "model.add(Dense(10, activation = 'softmax'))\n",
    "\n",
    "# First comparing to see which of the Adam and RMSprop gives higher accuracy\n",
    "# solver: adam\n",
    "model.compile(\"adam\", \"categorical_crossentropy\", metrics=['accuracy']);\n",
    "model.fit(X_train, y_train, batch_size=128, epochs=10, verbose=0)\n",
    "score = model.evaluate(X_val,y_val, verbose = 0)\n",
    "print(\"Optimizer : Adam\")\n",
    "print(\"Validation loss = {:.3f}\".format(score[0]))\n",
    "print(\"Validation accuracy =  {:.3f}\".format(score[1]))\n",
    "\n",
    "# solver: RMSprop\n",
    "model.compile(\"rmsprop\", \"categorical_crossentropy\", metrics=['accuracy']);\n",
    "model.fit(X_train, y_train, batch_size=128, epochs=10, verbose=0)\n",
    "score = model.evaluate(X_val,y_val, verbose = 0)\n",
    "print(\"Optimizer : RMSprop\")\n",
    "print(\"Validation loss = {:.3f}\".format(score[0]))\n",
    "print(\"Validation accuracy =  {:.3f}\".format(score[1]))"
   ]
  },
  {
   "cell_type": "markdown",
   "metadata": {
    "colab_type": "text",
    "id": "r60rNoxMtkKM"
   },
   "source": [
    "Since there is no much difference between the two optimizers, we decided to go ahead with Adam\n"
   ]
  },
  {
   "cell_type": "code",
   "execution_count": 0,
   "metadata": {
    "colab": {
     "base_uri": "https://localhost:8080/",
     "height": 313
    },
    "colab_type": "code",
    "id": "jo3AXVLlfaIc",
    "outputId": "219c243b-d806-423b-8ec2-aec1aae38125"
   },
   "outputs": [
    {
     "data": {
      "image/png": "[encoded data removed]",
      "text/plain": [
       "<Figure size 432x288 with 1 Axes>"
      ]
     },
     "metadata": {
      "needs_background": "light",
      "tags": []
     },
     "output_type": "display_data"
    },
    {
     "name": "stdout",
     "output_type": "stream",
     "text": [
      "Best epoch number =  9  with accuracy of = 0.8944000005722046\n"
     ]
    }
   ],
   "source": [
    "# Learning Curve for Epochs\n",
    "accuracy = []\n",
    "epoch = np.arange(1,11)\n",
    "for epoch_size in epoch:\n",
    "  model.fit(X_train, y_train, batch_size = 128, epochs = epoch_size, verbose = 0)\n",
    "  score = model.evaluate(X_val,y_val, verbose = 0)\n",
    "  accuracy.append(score[1])\n",
    "\n",
    "plt.plot(epoch, accuracy)\n",
    "plt.title(\"Learning Curve for Accuracy vs Epoch for 'vanilla' model\")\n",
    "plt.xlabel(\"Epoch\")\n",
    "plt.ylabel(\"Accuracy\")\n",
    "plt.show();\n",
    "\n",
    "best_epoch_num = np.argmax(accuracy) + 1\n",
    "print(\"Best epoch number = \", best_epoch_num,  \" with accuracy of =\", np.max(accuracy) )"
   ]
  },
  {
   "cell_type": "code",
   "execution_count": 0,
   "metadata": {
    "colab": {
     "base_uri": "https://localhost:8080/",
     "height": 313
    },
    "colab_type": "code",
    "id": "aR9RZCf_mYCF",
    "outputId": "ea1a04c7-565e-4803-fccf-77898e377a6b"
   },
   "outputs": [
    {
     "data": {
      "image/png": "[encoded data removed]",
      "text/plain": [
       "<Figure size 432x288 with 1 Axes>"
      ]
     },
     "metadata": {
      "needs_background": "light",
      "tags": []
     },
     "output_type": "display_data"
    },
    {
     "name": "stdout",
     "output_type": "stream",
     "text": [
      "Best epoch number =  8  with accuracy of = 0.8950999975204468\n"
     ]
    }
   ],
   "source": [
    "# For Dropdout Model\n",
    "\n",
    "model_dropout = Sequential([\n",
    "    Dense(1024, input_shape = (784,), activation = 'relu'), # First hidden layer\n",
    "    Dropout(0.5),\n",
    "    Dense(1024, activation = 'relu'),  # Second hidden layer\n",
    "    Dropout(0.5),\n",
    "    Dense(10, activation = 'softmax'),\n",
    "]\n",
    ")\n",
    "\n",
    "model_dropout.compile(\"adam\", \"categorical_crossentropy\", metrics=['accuracy'])\n",
    "\n",
    "# Learning Curve for Dropout\n",
    "accuracy_dropout = []\n",
    "for epoch_size in epoch:\n",
    "  model.fit(X_train, y_train, batch_size = 128, epochs = epoch_size, verbose = 0)\n",
    "  score = model.evaluate(X_val,y_val, verbose = 0)\n",
    "  accuracy_dropout.append(score[1])\n",
    "\n",
    "plt.plot(epoch, accuracy_dropout)\n",
    "plt.title(\"Learning Curve for Accuracy vs Epoch for Dropout model\")\n",
    "plt.xlabel(\"Epoch\")\n",
    "plt.ylabel(\"Accuracy\")\n",
    "plt.show();\n",
    "\n",
    "best_epoch_num = np.argmax(accuracy_dropout) + 1\n",
    "print(\"Best epoch number = \", best_epoch_num,  \" with accuracy of =\", np.max(accuracy_dropout) )"
   ]
  },
  {
   "cell_type": "code",
   "execution_count": 0,
   "metadata": {
    "colab": {
     "base_uri": "https://localhost:8080/",
     "height": 313
    },
    "colab_type": "code",
    "id": "tr-M4xYpveBn",
    "outputId": "5e7c0117-63f2-4bbc-db91-0a43814e13ab"
   },
   "outputs": [
    {
     "data": {
      "image/png": "[encoded data removed]",
      "text/plain": [
       "<Figure size 432x288 with 1 Axes>"
      ]
     },
     "metadata": {
      "needs_background": "light",
      "tags": []
     },
     "output_type": "display_data"
    },
    {
     "name": "stdout",
     "output_type": "stream",
     "text": [
      "Best epoch number =  9  with accuracy of = 0.8871999979019165\n"
     ]
    }
   ],
   "source": [
    "# For a model with Batch Normalization\n",
    "model_batch_norm = Sequential([\n",
    "    Dense(256, input_shape = (784,), activation = 'relu'),\n",
    "    BatchNormalization(),\n",
    "    Dense(256, activation = 'relu'),\n",
    "    BatchNormalization(),\n",
    "    Dense(10, activation = 'softmax'),\n",
    "]\n",
    ")\n",
    "model_batch_norm.compile(\"adam\", \"categorical_crossentropy\", metrics=['accuracy'])\n",
    "\n",
    "\n",
    "# Learning Curve for the model with Batch Normalization\n",
    "accuracy_normalization = []\n",
    "\n",
    "for epoch_size in epoch:\n",
    "  model_batch_norm.fit(X_train, y_train, batch_size = 128, epochs = epoch_size, verbose = 0)\n",
    "  score = model_batch_norm.evaluate(X_val,y_val, verbose = 0)\n",
    "  accuracy_normalization.append(score[1])\n",
    "\n",
    "plt.plot(epoch, accuracy_normalization)\n",
    "plt.title(\"Learning Curve for Accuracy vs Epoch for a model with Batch Normalization\")\n",
    "plt.xlabel(\"Epoch\")\n",
    "plt.ylabel(\"Accuracy\")\n",
    "plt.show();\n",
    "\n",
    "best_epoch_num = np.argmax(accuracy_normalization) + 1\n",
    "print(\"Best epoch number = \", best_epoch_num,  \" with accuracy of =\", np.max(accuracy_normalization) )"
   ]
  }
 ],
 "metadata": {
  "accelerator": "GPU",
  "colab": {
   "collapsed_sections": [],
   "name": "task2",
   "provenance": []
  },
  "kernelspec": {
   "display_name": "Python 3",
   "language": "python",
   "name": "python3"
  },
  "language_info": {
   "codemirror_mode": {
    "name": "ipython",
    "version": 3
   },
   "file_extension": ".py",
   "mimetype": "text/x-python",
   "name": "python",
   "nbconvert_exporter": "python",
   "pygments_lexer": "ipython3",
   "version": "3.7.3"
  }
 },
 "nbformat": 4,
 "nbformat_minor": 1
}
