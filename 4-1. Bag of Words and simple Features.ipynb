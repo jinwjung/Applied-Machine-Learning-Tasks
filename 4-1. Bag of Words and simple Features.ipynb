{
 "cells": [
  {
   "cell_type": "markdown",
   "metadata": {},
   "source": [
    "In this task, we try to solve the problem of predicting wine quality from review texts and\n",
    "other properties of the wine. You can find the dataset here:\n",
    "https://www.kaggle.com/zynicide/wine-reviews"
   ]
  },
  {
   "cell_type": "markdown",
   "metadata": {},
   "source": [
    "### Task 1 Bag of Words and simple Features \n",
    "\n",
    "#### 1.1 Create a baseline model for predicting wine quality using only non-text features."
   ]
  },
  {
   "cell_type": "code",
   "execution_count": 1,
   "metadata": {},
   "outputs": [],
   "source": [
    "import pandas as pd\n",
    "import numpy as np\n",
    "import matplotlib.pylab as plt\n",
    "import seaborn as sns\n",
    "from sklearn.model_selection import train_test_split\n",
    "from sklearn.pipeline import make_pipeline\n",
    "from sklearn.preprocessing import StandardScaler, OneHotEncoder\n",
    "from sklearn.impute import SimpleImputer\n",
    "from sklearn.compose import make_column_transformer, make_column_selector\n",
    "from sklearn.linear_model import ElasticNet, LinearRegression, Ridge, Lasso,LogisticRegression\n",
    "from sklearn.preprocessing import PolynomialFeatures\n",
    "from category_encoders import TargetEncoder\n",
    "from sklearn.model_selection import GridSearchCV, cross_val_score\n",
    "from sklearn.linear_model import LogisticRegressionCV\n",
    "from sklearn.feature_extraction.text import CountVectorizer\n",
    "from sklearn.feature_extraction.text import TfidfVectorizer, TfidfTransformer\n",
    "import scipy.sparse as sp"
   ]
  },
  {
   "cell_type": "code",
   "execution_count": 2,
   "metadata": {
    "scrolled": true
   },
   "outputs": [],
   "source": [
    "df = pd.read_csv(\"winemag-data-130k-v2.csv\")"
   ]
  },
  {
   "cell_type": "code",
   "execution_count": 3,
   "metadata": {
    "scrolled": true
   },
   "outputs": [
    {
     "name": "stdout",
     "output_type": "stream",
     "text": [
      "Unnamed: 0\n",
      "count    129971.000000\n",
      "mean      64985.000000\n",
      "std       37519.540256\n",
      "min           0.000000\n",
      "25%       32492.500000\n",
      "50%       64985.000000\n",
      "75%       97477.500000\n",
      "max      129970.000000\n",
      "Name: Unnamed: 0, dtype: float64\n",
      "\n",
      "taster_twitter_handle\n",
      "count          98758\n",
      "unique            15\n",
      "top       @vossroger\n",
      "freq           25514\n",
      "Name: taster_twitter_handle, dtype: object\n",
      "\n",
      "description\n",
      "count                                                129971\n",
      "unique                                               119955\n",
      "top       Cigar box, café au lait, and dried tobacco aro...\n",
      "freq                                                      3\n",
      "Name: description, dtype: object\n",
      "\n",
      "title\n",
      "count                                                129971\n",
      "unique                                               118840\n",
      "top       Gloria Ferrer NV Sonoma Brut Sparkling (Sonoma...\n",
      "freq                                                     11\n",
      "Name: title, dtype: object\n",
      "\n",
      "winery\n",
      "count                 129971\n",
      "unique                 16757\n",
      "top       Wines & Winemakers\n",
      "freq                     222\n",
      "Name: winery, dtype: object\n",
      "\n"
     ]
    }
   ],
   "source": [
    "# select non-text features. Column \"Unnamed: 0\" is not considered since its just row index\n",
    "# Also removed \"taster_twitter_handle\" column since the column does not provide any useful ino\n",
    "unnecessary_cols = ['Unnamed: 0', 'taster_twitter_handle']\n",
    "for col in unnecessary_cols:\n",
    "    print(col)\n",
    "    print(df[col].describe())\n",
    "    print(\"\")\n",
    "    \n",
    "# Features with strings\n",
    "text_features = [ 'description', 'title', 'winery']\n",
    "for col in text_features:\n",
    "    print(col)\n",
    "    print(df[col].describe())\n",
    "    print(\"\")"
   ]
  },
  {
   "cell_type": "markdown",
   "metadata": {},
   "source": [
    "Since the unncessary columns shown above do not give meaningful information, the columns 'Unnamed: 0', 'taster_twitter_handle' will be dropped. Also, the columns  'description', 'title', 'winery' are considered text-related columns since each of those columns consist of many distinct string values"
   ]
  },
  {
   "cell_type": "code",
   "execution_count": 4,
   "metadata": {},
   "outputs": [],
   "source": [
    "# pre-pre processes\n",
    "df = pd.read_csv(\"winemag-data-130k-v2.csv\")\n",
    "df = df.drop(unnecessary_cols, axis=1) # drop the unnecessary and text features\n",
    "df = df.loc[df.country==\"US\"] # Only look for US data\n",
    "df = df.drop('country', axis =1)"
   ]
  },
  {
   "cell_type": "code",
   "execution_count": 5,
   "metadata": {
    "scrolled": true
   },
   "outputs": [
    {
     "name": "stdout",
     "output_type": "stream",
     "text": [
      "baseline mean score:  0.3816509571920229\n"
     ]
    }
   ],
   "source": [
    "# For task 1.1 \n",
    "text_features = ['description','title','winery'] # i.e. text-related features\n",
    "df_non_text= df.drop(text_features, axis=1)\n",
    "\n",
    "# Consider wine points as output \n",
    "target_sample = df_non_text.points\n",
    "X_sample = df_non_text.drop(['points'], axis=1)\n",
    "\n",
    "X_train, X_test, y_train, y_test = train_test_split(X_sample, target_sample,\n",
    "                                                    stratify=target_sample, random_state=1)\n",
    "\n",
    "#Baseline model: Linear regression with 'minimal' preprocessing\n",
    "cat_preprocessing = make_pipeline(\n",
    "    SimpleImputer(strategy='constant', fill_value='NA'),\n",
    "    OneHotEncoder(handle_unknown='ignore'))\n",
    "cont_preprocessing = make_pipeline(\n",
    "    SimpleImputer(),\n",
    "    StandardScaler())\n",
    "\n",
    "cat_TE_preprocessing = make_pipeline(\n",
    "    TargetEncoder())\n",
    "\n",
    "preprocess = make_column_transformer(\n",
    "    (cat_preprocessing, make_column_selector(dtype_include='object')),\n",
    "    remainder=cont_preprocessing)\n",
    "\n",
    "model = make_pipeline(preprocess, Ridge())\n",
    "\n",
    "scores = cross_val_score(model, X_train, y_train)\n",
    "print(\"baseline mean score: \", np.mean(scores))"
   ]
  },
  {
   "cell_type": "markdown",
   "metadata": {},
   "source": [
    "#### 1.2 Create a simple text-based model using a bag-of-words approach and a linear model.\n"
   ]
  },
  {
   "cell_type": "code",
   "execution_count": 6,
   "metadata": {},
   "outputs": [
    {
     "name": "stdout",
     "output_type": "stream",
     "text": [
      "Avg CV score using basic ridge:  0.6998183049018358\n",
      "\n",
      "2nd method - concatenating all text features\n",
      "V2: Avg CV score of a plain count-vectorizer without any tuning:  0.6832176751531114\n",
      "V2: Avg CV score of a plain count-vectorizer with pre-defined tuning:  0.671852060736962\n"
     ]
    }
   ],
   "source": [
    "# Taking sample of the whole datset\n",
    "sample_size = int(len(df[\"description\"])*0.7)  # i.e. 70% of the original size\n",
    "df_sample = df.sample(sample_size, random_state=1)\n",
    "\n",
    "# One way by make column_transformer of each CountVectorizer on the text columns\n",
    "text_features = [ 'description', 'title', 'winery']\n",
    "text_target_samp = df_sample.points\n",
    "text_cols_samp = df_sample[text_features]\n",
    "\n",
    "X_train, X_test, y_train, y_test = train_test_split(text_cols_samp , text_target_samp, \n",
    "                                            stratify= text_target_samp, random_state=1)\n",
    "\n",
    "preprocess = make_column_transformer(\n",
    "    (CountVectorizer(), 'description'),\n",
    "    (CountVectorizer(), 'title'),\n",
    "    (CountVectorizer(), 'winery')  )\n",
    "\n",
    "ridge = make_pipeline(preprocess, Ridge())\n",
    "ridge_score = cross_val_score(ridge, X_train, y_train)\n",
    "print (\"Avg CV score using basic ridge: \", np.mean(ridge_score))\n",
    "\n",
    "\n",
    "#--------------------------------------------------\n",
    "# 2nd method -  Concatenating all text features s.t. share the vocabulary and accumulate the counts. \n",
    "# You can get that by just concatenating the string columns.\n",
    "\n",
    "text_target_samp = df_sample.points\n",
    "text_cols_samp = df_sample['description']+ df_sample['title'] + df_sample['winery']\n",
    "\n",
    "X_train, X_test, y_train, y_test = train_test_split(text_cols_samp , text_target_samp, \n",
    "                                                    stratify= text_target_samp, random_state=1)\n",
    "print(\"\")\n",
    "print(\"2nd method - concatenating all text features\")\n",
    "\n",
    "# plain text-based model using a bag-of-words\n",
    "vect = CountVectorizer()\n",
    "X_train_transf = vect.fit_transform(X_train)\n",
    "ridge_score = cross_val_score(Ridge(), X_train_transf, y_train)\n",
    "print(\"V2: Avg CV score of a plain count-vectorizer without any tuning: \", np.mean(ridge_score))\n",
    "\n",
    "# plain text-based model using a bag-of-words\n",
    "vect = CountVectorizer(min_df = 2, stop_words = 'english', token_pattern=r\"\\b\\w[\\w’]+\\b\")\n",
    "X_train_transf = vect.fit_transform(X_train)\n",
    "ridge_score = cross_val_score(Ridge(), X_train_transf, y_train)\n",
    "print(\"V2: Avg CV score of a plain count-vectorizer with pre-defined tuning: \", np.mean(ridge_score))"
   ]
  },
  {
   "cell_type": "markdown",
   "metadata": {},
   "source": [
    "#### 1.3 Try using n-grams, characters, tf-idf rescaling and possibly other ways to tune the BoW\n",
    "model. Be aware that you might need to adjust the (regularization of the) linear model for\n",
    "different feature sets.\n"
   ]
  },
  {
   "cell_type": "code",
   "execution_count": 7,
   "metadata": {},
   "outputs": [
    {
     "name": "stdout",
     "output_type": "stream",
     "text": [
      "Avg CV score w/ 2-gram and pre-defined tuning:  0.7088785381327964\n",
      "Avg CV score w/ 3-gram and pre-defined tuning:  0.7192283509481117\n",
      "Avg CV score w/ 3-gram and pre-defined tuning:  0.7467945916542112\n"
     ]
    }
   ],
   "source": [
    "# Trying 2-grams with linear model\n",
    "vect = CountVectorizer(ngram_range=(1,2), min_df = 2, stop_words = 'english', token_pattern=r\"\\b\\w[\\w’]+\\b\")\n",
    "X_train_transf = vect.fit_transform(X_train)\n",
    "ridge_score = cross_val_score(Ridge(), X_train_transf, y_train, cv=3)\n",
    "print(\"Avg CV score w/ 2-gram and pre-defined tuning: \",  np.mean(ridge_score))\n",
    "\n",
    "# 3-gram\n",
    "vect = CountVectorizer(ngram_range=(1,3), min_df = 2, stop_words = 'english', token_pattern=r\"\\b\\w[\\w’]+\\b\")\n",
    "X_train_transf = vect.fit_transform(X_train)\n",
    "ridge_score = cross_val_score(Ridge(), X_train_transf, y_train, cv=3)\n",
    "print(\"Avg CV score w/ 3-gram and pre-defined tuning: \",  np.mean(ridge_score))\n",
    "\n",
    "# 3-gram without any tuning\n",
    "vect = CountVectorizer(ngram_range=(1,3))\n",
    "X_train_transf = vect.fit_transform(X_train)\n",
    "ridge_score = cross_val_score(Ridge(), X_train_transf,y_train, cv=3)\n",
    "print(\"Avg CV score w/ 3-gram and pre-defined tuning: \",  np.mean(ridge_score))"
   ]
  },
  {
   "cell_type": "code",
   "execution_count": 8,
   "metadata": {},
   "outputs": [
    {
     "name": "stdout",
     "output_type": "stream",
     "text": [
      "Avg CV score w/ 2-3 character gram and pre-defined tuning:  0.6292857811480754\n"
     ]
    }
   ],
   "source": [
    "#Using characters - Takes a long time, and does not provide good result\n",
    "vect = CountVectorizer(ngram_range=(2,3), analyzer = \"char_wb\", min_df = 2, stop_words = 'english', token_pattern=r\"\\b\\w[\\w’]+\\b\")\n",
    "X_train_transf = vect.fit_transform(X_train)\n",
    "ridge_score = cross_val_score(Ridge(), X_train_transf,y_train, cv=3)\n",
    "print(\"Avg CV score w/ 2-3 character gram and pre-defined tuning: \",  np.mean(ridge_score))"
   ]
  },
  {
   "cell_type": "code",
   "execution_count": 9,
   "metadata": {},
   "outputs": [
    {
     "name": "stdout",
     "output_type": "stream",
     "text": [
      "Avg CV score w/ with tfidf and pre-defined tuning:  0.7096549701749862\n",
      "Avg CV score w/ with tfidf and w/0 pre-defined tuning:  0.7204656940024137\n"
     ]
    }
   ],
   "source": [
    "# Using tf-idf rescaling\n",
    "vect = TfidfVectorizer(min_df = 2, stop_words = 'english', token_pattern=r\"\\b\\w[\\w’]+\\b\")\n",
    "X_train_transf = vect.fit_transform(X_train)\n",
    "ridge_score = cross_val_score(Ridge(), X_train_transf,y_train, cv=3)\n",
    "print(\"Avg CV score w/ with tfidf and pre-defined tuning: \",  np.mean(ridge_score))\n",
    "\n",
    "vect = TfidfVectorizer()\n",
    "X_train_transf = vect.fit_transform(X_train)\n",
    "ridge_score = cross_val_score(Ridge(), X_train_transf,y_train, cv=3)\n",
    "print(\"Avg CV score w/ with tfidf and w/0 pre-defined tuning: \",  np.mean(ridge_score))"
   ]
  },
  {
   "cell_type": "markdown",
   "metadata": {},
   "source": [
    "#### 1.4 Combine the non-text features and the text features. How does adding those features improve upon just using bag-of-words?"
   ]
  },
  {
   "cell_type": "code",
   "execution_count": 10,
   "metadata": {},
   "outputs": [],
   "source": [
    "text_features = [ 'description', 'title', 'winery']\n",
    "cont = ['price']\n",
    "cat = ['designation','province', 'region_1', 'region_2', 'taster_name', 'variety']\n",
    "text_col = ['desc,title,winery']\n",
    "\n",
    "sample_size = int(len(df[\"description\"])*0.7)  # i.e. 70% of the original size\n",
    "df_sample = df.sample(sample_size, random_state=1)\n",
    "\n",
    "# concatenate text-featured columns in to a single text column called \"desc,title,winery\"\n",
    "df_sample[\"desc,title,winery\"] =  df_sample['description']+ df_sample['title'] + df_sample['winery']\n",
    "df_sample = df_sample.drop(text_features, axis=1)\n",
    "\n",
    "target_sample = df_sample.points\n",
    "X_sample = df_sample.drop(['points'], axis=1)\n",
    "\n",
    "X_train, X_test, y_train, y_test = train_test_split(X_sample, target_sample,\n",
    "                                                    stratify = target_sample,  random_state=0)"
   ]
  },
  {
   "cell_type": "code",
   "execution_count": 11,
   "metadata": {},
   "outputs": [
    {
     "name": "stdout",
     "output_type": "stream",
     "text": [
      "For 70% sample:\n",
      "Avg CV score with both text/non-text features:  0.7572476667689682\n",
      "For the whole dataset:\n",
      "Avg CV score  with both text/non-text features:  0.7748946742649401\n"
     ]
    }
   ],
   "source": [
    "#preprocessing\n",
    "cat_preprocessing = make_pipeline(\n",
    "    SimpleImputer(strategy='constant', fill_value='NA'),\n",
    "    OneHotEncoder(handle_unknown='ignore'))\n",
    "\n",
    "cont_preprocessing = make_pipeline(\n",
    "    SimpleImputer(),\n",
    "    StandardScaler())\n",
    "\n",
    "text_preprocessing = make_pipeline(\n",
    "    CountVectorizer(ngram_range=(1,3))\n",
    "    )\n",
    "\n",
    "preprocess = make_column_transformer(\n",
    "    (cont_preprocessing, cont),\n",
    "    (cat_preprocessing, cat),\n",
    "    (text_preprocessing, 'desc,title,winery'))\n",
    "\n",
    "model = make_pipeline(preprocess, Ridge())\n",
    "model_score = cross_val_score(model, X_train, y_train, cv=3)\n",
    "print(\"For 70% sample:\")\n",
    "print (\"Avg CV score with both text/non-text features: \", np.mean(model_score))\n",
    "\n",
    "#------------------------------------------\n",
    "# To see what would the whold datset would give \n",
    "df_whole = df\n",
    "\n",
    "# concatenate text-featured columns in to a single text column called \"desc,title,winery\"\n",
    "df_whole[\"desc,title,winery\"] =  df_whole['description']+ df_whole['title'] + df_whole['winery']\n",
    "df_whole = df_whole.drop(text_features, axis=1)\n",
    "\n",
    "target_sample = df_whole.points\n",
    "X_sample = df_whole.drop(['points'], axis=1)\n",
    "\n",
    "X_train, X_test, y_train, y_test = train_test_split(X_sample, target_sample,\n",
    "                                                    stratify = target_sample,  random_state=0)\n",
    "\n",
    "model = make_pipeline(preprocess, Ridge())\n",
    "model_score = cross_val_score(model, X_train, y_train, cv=3)\n",
    "print(\"For the whole dataset:\")\n",
    "print (\"Avg CV score  with both text/non-text features: \", np.mean(model_score))"
   ]
  },
  {
   "cell_type": "markdown",
   "metadata": {},
   "source": [
    "Yes compared to the average CV score that only use non-text features with bag-of-words methods, the average accuracy increased when using both text and non-text features. Particularly, the score increased a lot when it is compared to the the baseline bag-of-words (i.e. without no specification) approach."
   ]
  }
 ],
 "metadata": {
  "kernelspec": {
   "display_name": "Python 3",
   "language": "python",
   "name": "python3"
  },
  "language_info": {
   "codemirror_mode": {
    "name": "ipython",
    "version": 3
   },
   "file_extension": ".py",
   "mimetype": "text/x-python",
   "name": "python",
   "nbconvert_exporter": "python",
   "pygments_lexer": "ipython3",
   "version": "3.7.3"
  }
 },
 "nbformat": 4,
 "nbformat_minor": 4
}
